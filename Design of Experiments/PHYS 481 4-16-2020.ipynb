{
 "cells": [
  {
   "cell_type": "code",
   "execution_count": 2,
   "metadata": {},
   "outputs": [],
   "source": [
    "import matplotlib.pyplot as plt\n",
    "import numpy as np\n",
    "from scipy.stats.distributions import norm"
   ]
  },
  {
   "cell_type": "code",
   "execution_count": 3,
   "metadata": {},
   "outputs": [],
   "source": [
    "populations = 10000 * np.arange(1, 6)"
   ]
  },
  {
   "cell_type": "code",
   "execution_count": 74,
   "metadata": {},
   "outputs": [
    {
     "data": {
      "text/plain": [
       "(array([21468., 18298., 17468., 18644., 24123.]),\n",
       " array([10000., 18000., 26000., 34000., 42000., 50000.]),\n",
       " <a list of 5 Patch objects>)"
      ]
     },
     "execution_count": 74,
     "metadata": {},
     "output_type": "execute_result"
    },
    {
     "data": {
      "image/png": "[encoded data removed]",
      "text/plain": [
       "<Figure size 432x288 with 1 Axes>"
      ]
     },
     "metadata": {
      "needs_background": "light"
     },
     "output_type": "display_data"
    }
   ],
   "source": [
    "islands = [populations[np.random.randint(0, 5)]]\n",
    "i = 0\n",
    "while(i < 100000):\n",
    "    hop = np.random.randint(0, 5)\n",
    "    if islands[-1] < populations[hop]:\n",
    "        islands.append(populations[hop])\n",
    "        i += 1\n",
    "    elif islands[-1] > populations[hop]:\n",
    "        if np.random.random() > populations[hop] / islands[-1]:\n",
    "            islands.append(populations[hop])\n",
    "            i += 1\n",
    "        else:\n",
    "            i = i\n",
    "plt.hist(islands, bins = 5)"
   ]
  },
  {
   "cell_type": "code",
   "execution_count": 75,
   "metadata": {},
   "outputs": [],
   "source": [
    "def p(x):\n",
    "    return .5*(norm.pdf(x, loc=mu, scale=sigma) + \\\n",
    "        norm.pdf(x, loc=mu+5, scale=sigma/2))"
   ]
  },
  {
   "cell_type": "code",
   "execution_count": 78,
   "metadata": {},
   "outputs": [
    {
     "data": {
      "image/png": "[encoded data removed]",
      "text/plain": [
       "<Figure size 432x288 with 1 Axes>"
      ]
     },
     "metadata": {
      "needs_background": "light"
     },
     "output_type": "display_data"
    }
   ],
   "source": [
    "mu = 10\n",
    "sigma = 3\n",
    "x = np.linspace(-50, 50, 1000)\n",
    "plt.plot(x, p(x), label='target distribution ($p(x)$)')\n",
    "\n",
    "plt.ylim(0, .4)\n",
    "plt.legend(loc='upper left')\n",
    "plt.xlabel('$x$');"
   ]
  },
  {
   "cell_type": "code",
   "execution_count": 79,
   "metadata": {},
   "outputs": [],
   "source": [
    "def jump_dist(theta):\n",
    "    dist = norm(mu, sigma)\n",
    "    return theta + dist\n",
    "\n",
    "def jump_confirm(theta):\n",
    "    if p(theta) > p(jump_dist(theta)):\n",
    "        return True, jump_dist(theta)\n",
    "    else:\n",
    "        return False\n",
    "\n",
    "distribution = [p(np.random.randint(-40, 40))]\n",
    "def jumper(jumps):\n",
    "    for i in range(jumps):\n",
    "        jump_confirm(distribution[-1]) = Jump, jump_distance\n",
    "        if  == True:\n",
    "            distribution.append()"
   ]
  }
 ],
 "metadata": {
  "kernelspec": {
   "display_name": "Python 3",
   "language": "python",
   "name": "python3"
  },
  "language_info": {
   "codemirror_mode": {
    "name": "ipython",
    "version": 3
   },
   "file_extension": ".py",
   "mimetype": "text/x-python",
   "name": "python",
   "nbconvert_exporter": "python",
   "pygments_lexer": "ipython3",
   "version": "3.7.6"
  }
 },
 "nbformat": 4,
 "nbformat_minor": 4
}
