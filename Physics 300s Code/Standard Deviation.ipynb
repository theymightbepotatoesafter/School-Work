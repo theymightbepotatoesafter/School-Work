{
 "cells": [
  {
   "cell_type": "code",
   "execution_count": 1,
   "metadata": {
    "collapsed": true
   },
   "outputs": [],
   "source": [
    "import numpy as np"
   ]
  },
  {
   "cell_type": "code",
   "execution_count": 21,
   "metadata": {},
   "outputs": [
    {
     "name": "stdout",
     "output_type": "stream",
     "text": [
      "Mean: 2.48\n",
      "Standard Deviation: 1.31\n",
      "SD on Mean: 0.23\n"
     ]
    }
   ],
   "source": [
    "data = [1,2,2,3,2,2,4,5,3,1,1,2,3,4,1,1,1,4,1,2,2,3,1,2,2,3,4,5,5,4,1]\n",
    "#just input your data above and it should give you your standard deviation, mean, and standard deviation on the mean below.\n",
    "std = np.std(data)\n",
    "mean = np.mean(data)\n",
    "stdom = std/(np.sqrt(len(data)))\n",
    "print(\"Mean: \" + str(mean)[:4])\n",
    "print(\"Standard Deviation: \" + str(std)[:4])\n",
    "print(\"SD on Mean: \" + str(stdom)[:4])"
   ]
  }
 ],
 "metadata": {
  "kernelspec": {
   "display_name": "Python 3",
   "language": "python",
   "name": "python3"
  },
  "language_info": {
   "codemirror_mode": {
    "name": "ipython",
    "version": 3
   },
   "file_extension": ".py",
   "mimetype": "text/x-python",
   "name": "python",
   "nbconvert_exporter": "python",
   "pygments_lexer": "ipython3",
   "version": "3.6.1"
  }
 },
 "nbformat": 4,
 "nbformat_minor": 2
}
