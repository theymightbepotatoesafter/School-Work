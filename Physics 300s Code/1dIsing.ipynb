{
 "cells": [
  {
   "cell_type": "code",
   "execution_count": 2,
   "metadata": {
    "collapsed": true
   },
   "outputs": [],
   "source": [
    "%matplotlib inline\n",
    "import numpy as np\n",
    "from matplotlib import pyplot as plt\n",
    "import time"
   ]
  },
  {
   "cell_type": "code",
   "execution_count": 8,
   "metadata": {
    "collapsed": true
   },
   "outputs": [],
   "source": [
    "def createAlignedState(N):\n",
    "    \"\"\"\n",
    "    Returns a state in which every spin is pointing up as an N by N numpy array\n",
    "    \"\"\"\n",
    "    return np.ones([1,N])\n",
    "\n",
    "#def createJArray(state):\n",
    "#    J = np.random.uniform(size = [state.size, state.size])\n",
    "#    J += J.T\n",
    "#    return J\n",
    "#\n",
    "#def indexToCoord(index, state):\n",
    "#    return np.unravel_index(index, state.shape)\n",
    "#\n",
    "#def coordToIndex(spin, state):\n",
    "#    return np.ravel_multi_index(spin, state.shape)\n",
    "#\n",
    "def createRandState(N):\n",
    "    \"\"\"\n",
    "    Returns a state in which every spin is randomized as an N by N numpy array\n",
    "    \"\"\"\n",
    "    return np.random.choice([-1, 1], size = [1,N])\n",
    "\n",
    "def calcTotalEnergy(state, J, mu, B):\n",
    "    \"\"\"\n",
    "    Calculates the total energy in the presence of an external field B with the equation\n",
    "    E = -J (Sum_neighbors s_i*s_j) - mu * B * (Sum s_i)\n",
    "    \n",
    "    args:\n",
    "        state: a 2d numpy array of +1 or -1\n",
    "        J: The self coupling term                    array type\n",
    "        mu: The magnetic moment                      float\n",
    "        B: The external, applied field               float\n",
    "    returns:\n",
    "        Energy: The energy of the state\n",
    "    \"\"\"\n",
    "    (xSize, ySize) = state.shape\n",
    "    JSize = state.size\n",
    "    Energy = 0\n",
    "    for x in range(xSize):\n",
    "        for y in range(ySize):\n",
    "            #print(x)\n",
    "            #print(y)\n",
    "            # Compute the interaction term with the 2 neighbors that are +1 in each direction\n",
    "            Energy += -J * state[x,y] * state[(x+1) % xSize, y]\n",
    "            Energy += -J * state[x,y] * state[(x-1) % xSize, y]\n",
    "            #print(indexToCoord(coordToIndex(((x+1) % xSize,y), state) % JSize, J))\n",
    "            #Energy += -J[indexToCoord((coordToIndex((x,(y + 1) % ySize), state) + ySize), J)] * state[x,y] * state[x,(y+1) % ySize]  \n",
    "            # Compute the interaction term with the field\n",
    "            Energy += -mu*B*state[x,y]\n",
    "            #print(Energy)\n",
    "    return Energy\n",
    "\n",
    "def pickRandSite(state):\n",
    "    \"\"\"\n",
    "    Returns a randomly chosen site within the state\n",
    "    \"\"\"\n",
    "    (xSize, ySize) = state.shape\n",
    "    return (np.random.randint(xSize), np.random.randint(ySize))\n",
    "\n",
    "def calcDeltaE(state, site, J, mu, B):\n",
    "    \"\"\"\n",
    "    Returns the change in energy due to flipping the spin at the given site\n",
    "    \n",
    "    args:\n",
    "        state: a 2d numpy array of +1 or -1\n",
    "        site: the chosen site\n",
    "    returns:\n",
    "        deltaE: The change in energy\n",
    "    \"\"\"    \n",
    "    (xSize, ySize) = state.shape\n",
    "    JSize = state.size\n",
    "    #print((site[0]+1, site[1]-1))\n",
    "    deltaEField = 2 * mu * B * state[site] \n",
    "    deltaENeighbors = 2 * J * state[site]*(\n",
    "              state[(site[0]-1) % xSize, site[1]] \n",
    "            + state[(site[0]+1) % xSize, site[1]] \n",
    "            #+ state[site[0], (site[1]-1) % ySize] \n",
    "            #+ state[site[0], (site[1]+1) % ySize] \n",
    "        )\n",
    "    return deltaENeighbors + deltaEField\n",
    "   \n",
    "def ising1D(state, T, nFrames, J, mu=1, B=.1):\n",
    "    \"\"\"\n",
    "    Runs the ising simulation for a specified number of frames, where a\n",
    "    frame is the number of steps needed to interrogate every site once, on\n",
    "    average.  Thus a frame is state.size steps\n",
    "    \n",
    "    args:\n",
    "        state: a 2d numpy array of +1 or -1\n",
    "        T: The temperature, given in energy units\n",
    "        nFrames: The number of frames to run for\n",
    "        B: The strength of the B-field\n",
    "    \"\"\"    \n",
    "    nSteps = nFrames*state.size\n",
    "    # Keep track of the total energy and magnetization of the system\n",
    "    E = [calcTotalEnergy(state, J, mu, B)]\n",
    "    M = [np.sum(state)]\n",
    "       \n",
    "    for t in range(1,nSteps):\n",
    "        proposedSite = pickRandSite(state)\n",
    "        deltaE = calcDeltaE(state, proposedSite, J, mu, B)\n",
    "        # print(proposedSite, deltaE)\n",
    "        #Accept the state if it lowers the energy or with probability e^(-deltaE/T)\n",
    "        if ( deltaE <= 0 ) or ( np.random.rand() < np.exp(-deltaE/T) ):\n",
    "            state[proposedSite] *= -1;\n",
    "            E.append(E[-1] + deltaE)\n",
    "            M.append(M[-1] + 2*state[proposedSite])\n",
    "        else:\n",
    "            E.append(E[-1])\n",
    "            M.append(M[-1])\n",
    "    #plt.imshow(J)\n",
    "    #plt.show()\n",
    "    return state, np.array(E), np.array(M)"
   ]
  },
  {
   "cell_type": "code",
   "execution_count": 14,
   "metadata": {},
   "outputs": [
    {
     "name": "stdout",
     "output_type": "stream",
     "text": [
      "Temperature 1.0 took 1.3593909740447998 seconds to run 1000 frames\n",
      "Temperature 1.1 took 1.2406837940216064 seconds to run 1000 frames\n",
      "Temperature 1.2000000000000002 took 1.299518346786499 seconds to run 1000 frames\n",
      "Temperature 1.3000000000000003 took 1.3164525032043457 seconds to run 1000 frames\n",
      "Temperature 1.4000000000000004 took 1.3773481845855713 seconds to run 1000 frames\n",
      "Temperature 1.5000000000000004 took 1.379300832748413 seconds to run 1000 frames\n",
      "Temperature 1.6000000000000005 took 1.6106879711151123 seconds to run 1000 frames\n",
      "Temperature 1.7000000000000006 took 1.4261400699615479 seconds to run 1000 frames\n",
      "Temperature 1.8000000000000007 took 1.3593933582305908 seconds to run 1000 frames\n",
      "Temperature 1.9000000000000008 took 1.3852958679199219 seconds to run 1000 frames\n",
      "Temperature 2.000000000000001 took 1.3144762516021729 seconds to run 1000 frames\n",
      "Temperature 2.100000000000001 took 1.4002132415771484 seconds to run 1000 frames\n",
      "Temperature 2.200000000000001 took 1.62864351272583 seconds to run 1000 frames\n",
      "Temperature 2.300000000000001 took 1.4222133159637451 seconds to run 1000 frames\n",
      "Temperature 2.4000000000000012 took 1.4052248001098633 seconds to run 1000 frames\n",
      "Temperature 2.5000000000000013 took 1.4591174125671387 seconds to run 1000 frames\n",
      "Temperature 2.6000000000000014 took 1.4182052612304688 seconds to run 1000 frames\n",
      "Temperature 2.7000000000000015 took 1.4421448707580566 seconds to run 1000 frames\n",
      "Temperature 2.8000000000000016 took 1.3992860317230225 seconds to run 1000 frames\n",
      "Temperature 2.9000000000000017 took 1.453108310699463 seconds to run 1000 frames\n",
      "Temperature 3.0000000000000018 took 1.4411170482635498 seconds to run 1000 frames\n",
      "Temperature 3.100000000000002 took 1.3683629035949707 seconds to run 1000 frames\n",
      "Temperature 3.200000000000002 took 1.3852732181549072 seconds to run 1000 frames\n",
      "Temperature 3.300000000000002 took 1.3474111557006836 seconds to run 1000 frames\n",
      "Temperature 3.400000000000002 took 1.4261906147003174 seconds to run 1000 frames\n",
      "Temperature 3.500000000000002 took 1.4411208629608154 seconds to run 1000 frames\n",
      "Temperature 3.6000000000000023 took 1.4092280864715576 seconds to run 1000 frames\n",
      "Temperature 3.7000000000000024 took 1.538891077041626 seconds to run 1000 frames\n",
      "Temperature 3.8000000000000025 took 1.6545665264129639 seconds to run 1000 frames\n",
      "Temperature 3.9000000000000026 took 1.409229040145874 seconds to run 1000 frames\n",
      "Temperature 4.000000000000003 took 1.3943021297454834 seconds to run 1000 frames\n",
      "Temperature 4.100000000000003 took 1.3673362731933594 seconds to run 1000 frames\n",
      "Temperature 4.200000000000003 took 1.3822741508483887 seconds to run 1000 frames\n",
      "Temperature 4.3000000000000025 took 1.4251558780670166 seconds to run 1000 frames\n",
      "Temperature 4.400000000000003 took 1.4401702880859375 seconds to run 1000 frames\n",
      "Temperature 4.5000000000000036 took 1.4022226333618164 seconds to run 1000 frames\n",
      "Temperature 4.600000000000003 took 1.3863139152526855 seconds to run 1000 frames\n",
      "Temperature 4.700000000000003 took 1.3892886638641357 seconds to run 1000 frames\n",
      "Temperature 4.800000000000003 took 1.3284518718719482 seconds to run 1000 frames\n",
      "Temperature 4.900000000000004 took 1.4690375328063965 seconds to run 1000 frames\n"
     ]
    },
    {
     "data": {
      "text/plain": [
       "<matplotlib.text.Text at 0x2c8020842b0>"
      ]
     },
     "execution_count": 14,
     "metadata": {},
     "output_type": "execute_result"
    },
    {
     "data": {
      "image/png": "[encoded data removed]",
      "text/plain": [
       "<matplotlib.figure.Figure at 0x2c801e99358>"
      ]
     },
     "metadata": {},
     "output_type": "display_data"
    },
    {
     "data": {
      "image/png": "[encoded data removed]",
      "text/plain": [
       "<matplotlib.figure.Figure at 0x2c800ae9ef0>"
      ]
     },
     "metadata": {},
     "output_type": "display_data"
    },
    {
     "data": {
      "image/png": "[encoded data removed]",
      "text/plain": [
       "<matplotlib.figure.Figure at 0x2c801bc3f60>"
      ]
     },
     "metadata": {},
     "output_type": "display_data"
    },
    {
     "data": {
      "image/png": "[encoded data removed]",
      "text/plain": [
       "<matplotlib.figure.Figure at 0x2c800299e10>"
      ]
     },
     "metadata": {},
     "output_type": "display_data"
    }
   ],
   "source": [
    "nFrames=1000\n",
    "temperature = np.arange(1, 5, .1)\n",
    "meanE=[]\n",
    "meanM=[]\n",
    "meanESq=[]\n",
    "meanMSq=[]\n",
    "for T in temperature:\n",
    "    start = time.time()\n",
    "    nSide = 100\n",
    "    state = createRandState(nSide)\n",
    "    finalState, ETemp, MTemp = ising1D(state, T, nFrames, 1)\n",
    "    meanE.append(np.mean(ETemp))\n",
    "    meanM.append(np.mean(MTemp))\n",
    "    meanESq.append(np.mean(ETemp**2))\n",
    "    meanMSq.append(np.mean(MTemp**2))\n",
    "    end = time.time()\n",
    "    print(f'Temperature {T} took {end-start} seconds to run {nFrames} frames')\n",
    "\n",
    "plt.figure(0)\n",
    "plt.plot(temperature, np.array(meanE)/(nSide),'o')\n",
    "plt.xlabel('Temperature')\n",
    "plt.ylabel('$E/N_{sites}$')\n",
    "\n",
    "plt.figure(1)\n",
    "plt.plot(temperature, np.array(meanM)/(nSide),'o')\n",
    "plt.xlabel('Temperature')\n",
    "plt.ylabel('$M/N_{sites}$')\n",
    "\n",
    "plt.figure(2)\n",
    "plt.plot(temperature, np.array(meanESq)/(nSide),'o')\n",
    "plt.xlabel('Temperature')\n",
    "plt.ylabel('$E^2/N_{sites}$')\n",
    "\n",
    "plt.figure(3)\n",
    "plt.plot(temperature, np.array(meanMSq)/(nSide),'o')\n",
    "plt.xlabel('Temperature')\n",
    "plt.ylabel('$M^2/N_{sites}$')"
   ]
  }
 ],
 "metadata": {
  "kernelspec": {
   "display_name": "Python 3",
   "language": "python",
   "name": "python3"
  },
  "language_info": {
   "codemirror_mode": {
    "name": "ipython",
    "version": 3
   },
   "file_extension": ".py",
   "mimetype": "text/x-python",
   "name": "python",
   "nbconvert_exporter": "python",
   "pygments_lexer": "ipython3",
   "version": "3.6.1"
  }
 },
 "nbformat": 4,
 "nbformat_minor": 2
}
