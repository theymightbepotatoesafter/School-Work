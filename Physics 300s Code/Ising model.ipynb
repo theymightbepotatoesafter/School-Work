{
 "cells": [
  {
   "cell_type": "code",
   "execution_count": 1,
   "metadata": {
    "collapsed": true
   },
   "outputs": [],
   "source": [
    "import matplotlib.pyplot as plt\n",
    "import numpy as np\n",
    "%matplotlib inline\n",
    "from numba import jit"
   ]
  },
  {
   "cell_type": "code",
   "execution_count": 448,
   "metadata": {},
   "outputs": [],
   "source": [
    "size = 20\n",
    "T = 2.5\n",
    "time = 100\n",
    "#defining an array with 1s and -1s\n",
    "def Ising_rand_array(size):\n",
    "    rand_array = np.around(np.random.rand(size,size))\n",
    "    #generates array with 0s and 1s\n",
    "    for c in range(0,size):\n",
    "        for r in range(0,size):\n",
    "            #changes 0s to -1s\n",
    "            if rand_array[r,c] == 0:\n",
    "                rand_array[r,c] = -1\n",
    "            else:\n",
    "                rand_array[r,c] = rand_array[r,c]\n",
    "    \n",
    "    return rand_array\n",
    "Ising_array = Ising_rand_array(size)\n",
    "#generates random row and column indexes for the sim\n",
    "rand_row = np.around((size-1)*np.random.rand(size*size))\n",
    "rand_col = np.around((size-1)*np.random.rand(size*size))"
   ]
  },
  {
   "cell_type": "code",
   "execution_count": 545,
   "metadata": {
    "collapsed": true
   },
   "outputs": [],
   "source": [
    "def Boltz_flip(rand_col, rand_row, size, T, i, Ising_array_num):\n",
    "    #checks if the boltzmann factor is greater than a random number between 0 and 1\n",
    "    return np.random.rand(1) < np.e**(-delta_U(rand_row, rand_col, size, i, Ising_array_num)/T)\n",
    "    \n",
    "def delta_U(rand_row, rand_col, size, i, Ising_array_num):\n",
    "    #checks if the change in energy would be negative\n",
    "    flip_candidate = Ising_array_num[int(rand_row[i]),int(rand_col[i])]\n",
    "    b = Ising_array_num[int((rand_row[i]+1)%size),int(rand_col[i])]\n",
    "    t = Ising_array_num[int(rand_row[i]-1),int(rand_col[i])]\n",
    "    l = Ising_array_num[int(rand_row[i]),int(rand_col[i]-1)]\n",
    "    r = Ising_array_num[int(rand_row[i]),int((rand_col[i]+1)%size)]\n",
    "    return 2*flip_candidate*(t+b+l+r)\n",
    "\n",
    "def flip(rand_col, rand_row, size, T, time, Ising_array_num):\n",
    "    #checks over the random dipoles and lets them flip 100 times\n",
    "    #averageEnergy = 0\n",
    "    for i in range(0, size*size):\n",
    "        for t in range(0, time):\n",
    "            if delta_U(rand_row, rand_col, size, i, Ising_array_num) <= 0:\n",
    "                Ising_array_num[int(rand_row[i]),int(rand_col[i])] = -Ising_array_num[int(rand_row[i]),int(rand_col[i])]\n",
    "            \n",
    "            elif Boltz_flip(rand_col, rand_row, size, T, i, Ising_array_num) == True:\n",
    "                Ising_array_num[int(rand_row[i]),int(rand_col[i])] = -Ising_array_num[int(rand_row[i]),int(rand_col[i])]\n",
    "            \n",
    "            #averageEnergy += average_Engergy(size, Ising_array_num)\n",
    "            #return np.cumsum(Ising_array_num)\n",
    "            \n",
    "    return Ising_array_num#, averageEnergy\n",
    "    #returns the changed Ising array\n",
    "\n",
    "def average_Engergy(size, Ising_array_num):\n",
    "    averageEngergy = 0\n",
    "    for c in range(0,size):\n",
    "        for r in range(0,size):\n",
    "            #Take the sum of the spins of the neighbors and then decided the energy from that\n",
    "            flip_candidate = Ising_array_num[r,c]\n",
    "            b = Ising_array_num[(r+1)%size,c]\n",
    "            t = Ising_array_num[r-1,c]\n",
    "            l = Ising_array_num[r,c-1]\n",
    "            r = Ising_array_num[r,(c+1)%size]\n",
    "            if flip_candidate > 0:\n",
    "                averageEngergy += -(b+t+l+r)\n",
    "            elif flip_candidate < 0:\n",
    "                averageEngergy += (b+t+l+r) \n",
    "    return averageEngergy/(size**2)\n",
    "\n",
    "def total_magnetization(size, Ising_array_num):\n",
    "    return np.sum(Ising_array_num)"
   ]
  },
  {
   "cell_type": "markdown",
   "metadata": {},
   "source": [
    "# 8.26"
   ]
  },
  {
   "cell_type": "code",
   "execution_count": 515,
   "metadata": {},
   "outputs": [
    {
     "name": "stdout",
     "output_type": "stream",
     "text": [
      "-1.2\n"
     ]
    },
    {
     "data": {
      "image/png": "[encoded data removed]",
      "text/plain": [
       "<matplotlib.figure.Figure at 0x2383819f4a8>"
      ]
     },
     "metadata": {},
     "output_type": "display_data"
    }
   ],
   "source": [
    "size = 20  \n",
    "Ising_a = flip(rand_col, rand_row, size, T, time, Ising_array)\n",
    "print(average_Engergy(size, Ising_a))\n",
    "plt.imshow(Ising_a, cmap='gray')\n",
    "plt.show()"
   ]
  },
  {
   "cell_type": "code",
   "execution_count": 266,
   "metadata": {},
   "outputs": [],
   "source": [
    "T = 10 \n",
    "time = 100\n",
    "size = 20\n",
    "Ising_array_1 = Ising_rand_array(size)\n",
    "average_Engergy(size, Ising_array_1)\n",
    "rand_row = np.around((size-1)*np.random.rand(size*size))\n",
    "rand_col = np.around((size-1)*np.random.rand(size*size))"
   ]
  },
  {
   "cell_type": "code",
   "execution_count": 267,
   "metadata": {
    "scrolled": true
   },
   "outputs": [
    {
     "data": {
      "image/png": "[encoded data removed]",
      "text/plain": [
       "<matplotlib.figure.Figure at 0x238382ac6d8>"
      ]
     },
     "metadata": {},
     "output_type": "display_data"
    }
   ],
   "source": [
    "plt.imshow(flip(rand_col, rand_row, size, T, time, Ising_array_1), cmap='gray')\n",
    "plt.show()"
   ]
  },
  {
   "cell_type": "code",
   "execution_count": 225,
   "metadata": {},
   "outputs": [],
   "source": [
    "T = 10 \n",
    "time = 100\n",
    "size = 20\n",
    "Ising_array_2 = Ising_rand_array(size)\n",
    "rand_row = np.around((size-1)*np.random.rand(size*size))\n",
    "rand_col = np.around((size-1)*np.random.rand(size*size))"
   ]
  },
  {
   "cell_type": "code",
   "execution_count": 230,
   "metadata": {},
   "outputs": [
    {
     "data": {
      "image/png": "[encoded data removed]",
      "text/plain": [
       "<matplotlib.figure.Figure at 0x23838243518>"
      ]
     },
     "metadata": {},
     "output_type": "display_data"
    }
   ],
   "source": [
    "plt.imshow(flip(rand_col, rand_row, size, T, time, Ising_array_2), cmap='gray')\n",
    "plt.show()"
   ]
  },
  {
   "cell_type": "code",
   "execution_count": 232,
   "metadata": {},
   "outputs": [],
   "source": [
    "T = 5 \n",
    "time = 100\n",
    "size = 20\n",
    "Ising_array_3 = Ising_rand_array(size)\n",
    "rand_row = np.around((size-1)*np.random.rand(size*size))\n",
    "rand_col = np.around((size-1)*np.random.rand(size*size))"
   ]
  },
  {
   "cell_type": "code",
   "execution_count": 233,
   "metadata": {},
   "outputs": [
    {
     "data": {
      "image/png": "[encoded data removed]",
      "text/plain": [
       "<matplotlib.figure.Figure at 0x23838190dd8>"
      ]
     },
     "metadata": {},
     "output_type": "display_data"
    }
   ],
   "source": [
    "plt.imshow(flip(rand_col, rand_row, size, T, time, Ising_array_3), cmap='gray')\n",
    "plt.show()"
   ]
  },
  {
   "cell_type": "code",
   "execution_count": 546,
   "metadata": {
    "scrolled": true
   },
   "outputs": [],
   "source": [
    "T = 4 \n",
    "time = 100\n",
    "size = 20\n",
    "Ising_array_4 = Ising_rand_array(size)\n",
    "rand_row = np.around((size-1)*np.random.rand(size*size))\n",
    "rand_col = np.around((size-1)*np.random.rand(size*size))"
   ]
  },
  {
   "cell_type": "code",
   "execution_count": 569,
   "metadata": {},
   "outputs": [
    {
     "data": {
      "image/png": "[encoded data removed]",
      "text/plain": [
       "<matplotlib.figure.Figure at 0x23839b4ca20>"
      ]
     },
     "metadata": {},
     "output_type": "display_data"
    },
    {
     "name": "stdout",
     "output_type": "stream",
     "text": [
      "-54.0\n"
     ]
    }
   ],
   "source": [
    "plt.imshow(flip(rand_col, rand_row, size, T, time, Ising_array_4), cmap='gray')\n",
    "plt.show()"
   ]
  },
  {
   "cell_type": "code",
   "execution_count": 581,
   "metadata": {
    "collapsed": true
   },
   "outputs": [],
   "source": [
    "T = 211\n",
    "time = 100\n",
    "size = 100\n",
    "Ising_array_5 = Ising_rand_array(size)\n",
    "rand_row = np.around((size-1)*np.random.rand(size*size))\n",
    "rand_col = np.around((size-1)*np.random.rand(size*size))"
   ]
  },
  {
   "cell_type": "code",
   "execution_count": 587,
   "metadata": {},
   "outputs": [
    {
     "data": {
      "image/png": "[encoded data removed]",
      "text/plain": [
       "<matplotlib.figure.Figure at 0x23839f21208>"
      ]
     },
     "metadata": {},
     "output_type": "display_data"
    }
   ],
   "source": [
    "plt.imshow(flip(rand_col, rand_row, size, 10, time, Ising_array_5), cmap='gray')\n",
    "plt.show()"
   ]
  },
  {
   "cell_type": "markdown",
   "metadata": {},
   "source": [
    "# 8.27"
   ]
  },
  {
   "cell_type": "code",
   "execution_count": 589,
   "metadata": {},
   "outputs": [],
   "source": [
    "size = 10\n",
    "time = 100\n",
    "subdivision = 100\n",
    "rand_row = np.around((size-1)*np.random.rand(size*size))\n",
    "rand_col = np.around((size-1)*np.random.rand(size*size))\n",
    "average_U = np.zeros(subdivision)\n",
    "Temp_scale = np.zeros(subdivision)\n",
    "for i in range(0,subdivision):\n",
    "    T = 4 - 4*i/subdivision\n",
    "    Temp_scale[i] = T\n",
    "    Ising_array_6 = Ising_rand_array(size)\n",
    "    average_U[i] = average_Engergy(size, Ising_array_6)\n",
    "    flip(rand_col, rand_row, size, T, time, Ising_array_6)"
   ]
  },
  {
   "cell_type": "code",
   "execution_count": 590,
   "metadata": {
    "scrolled": true
   },
   "outputs": [
    {
     "data": {
      "image/png": "[encoded data removed]",
      "text/plain": [
       "<matplotlib.figure.Figure at 0x23839f20e10>"
      ]
     },
     "metadata": {},
     "output_type": "display_data"
    },
    {
     "data": {
      "text/plain": [
       "[<matplotlib.lines.Line2D at 0x23839e481d0>]"
      ]
     },
     "execution_count": 590,
     "metadata": {},
     "output_type": "execute_result"
    },
    {
     "data": {
      "image/png": "[encoded data removed]",
      "text/plain": [
       "<matplotlib.figure.Figure at 0x23839bcf7b8>"
      ]
     },
     "metadata": {},
     "output_type": "display_data"
    }
   ],
   "source": [
    "plt.imshow(Ising_array_6, cmap='gray')\n",
    "plt.show()\n",
    "\n",
    "plt.plot(Temp_scale, average_U)"
   ]
  },
  {
   "cell_type": "markdown",
   "metadata": {},
   "source": [
    "# 8.28"
   ]
  },
  {
   "cell_type": "code",
   "execution_count": 591,
   "metadata": {},
   "outputs": [
    {
     "name": "stdout",
     "output_type": "stream",
     "text": [
      "4.0\n"
     ]
    }
   ],
   "source": [
    "flip(rand_col, rand_row, size, T, time, Ising_array_6)\n",
    "print(total_magnetization(size, Ising_array_6))"
   ]
  }
 ],
 "metadata": {
  "kernelspec": {
   "display_name": "Python 3",
   "language": "python",
   "name": "python3"
  },
  "language_info": {
   "codemirror_mode": {
    "name": "ipython",
    "version": 3
   },
   "file_extension": ".py",
   "mimetype": "text/x-python",
   "name": "python",
   "nbconvert_exporter": "python",
   "pygments_lexer": "ipython3",
   "version": "3.6.1"
  }
 },
 "nbformat": 4,
 "nbformat_minor": 2
}
