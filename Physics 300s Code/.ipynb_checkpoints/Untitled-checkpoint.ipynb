{
 "cells": [
  {
   "cell_type": "code",
   "execution_count": 55,
   "metadata": {},
   "outputs": [],
   "source": [
    "import numpy as np\n",
    "import matplotlib.pyplot as plt\n",
    "import numba\n",
    "%matplotlib inline"
   ]
  },
  {
   "cell_type": "code",
   "execution_count": 54,
   "metadata": {},
   "outputs": [],
   "source": [
    "def generateRandStates(dim, J):\n",
    "    \n",
    "    states = []\n",
    "    states.append(np.random.normal(loc=0, scale=J*np.sqrt(dim), size=2**dim))\n",
    "    return states\n",
    "\n",
    "def getRandNeighbor(state, dim):\n",
    "    \n",
    "    return state ^ (1 << np.random.randint(dim))\n",
    "\n",
    "def REM(dim, T, nSteps, generateRandStates, J):\n",
    "    \n",
    "    hammingCube = generateRandStates(dim, J)\n",
    "    Energies = []\n",
    "    for i in range(1, nSteps):\n",
    "        state = np.random.randint(2**dim)\n",
    "        randState = getRandNeighbor(state, dim)\n",
    "\n",
    "        if (hammingCube[randState] <= hammingCube[state]) or (np.random.rand() < np.e^(hammingCube[state]/T)):\n",
    "            Energies.append(hammingCube[randState])\n",
    "        else:\n",
    "            Energies.append(hammingCube[state])\n",
    "            \n",
    "        \n",
    "    "
   ]
  },
  {
   "cell_type": "code",
   "execution_count": 68,
   "metadata": {},
   "outputs": [
    {
     "data": {
      "text/plain": [
       "0.6676013496058416"
      ]
     },
     "execution_count": 68,
     "metadata": {},
     "output_type": "execute_result"
    }
   ],
   "source": [
    "#getNeighbors(2,2)\n",
    "np.random.rand()"
   ]
  }
 ],
 "metadata": {
  "kernelspec": {
   "display_name": "Python 3",
   "language": "python",
   "name": "python3"
  },
  "language_info": {
   "codemirror_mode": {
    "name": "ipython",
    "version": 3
   },
   "file_extension": ".py",
   "mimetype": "text/x-python",
   "name": "python",
   "nbconvert_exporter": "python",
   "pygments_lexer": "ipython3",
   "version": "3.6.1"
  }
 },
 "nbformat": 4,
 "nbformat_minor": 2
}
