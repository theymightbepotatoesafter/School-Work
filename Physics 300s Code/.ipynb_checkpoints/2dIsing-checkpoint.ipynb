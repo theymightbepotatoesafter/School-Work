{
 "cells": [
  {
   "cell_type": "code",
   "execution_count": 1,
   "metadata": {
    "collapsed": true
   },
   "outputs": [],
   "source": [
    "%matplotlib inline\n",
    "import numpy as np\n",
    "from matplotlib import pyplot as plt\n",
    "import time\n",
    "from numba import jit"
   ]
  },
  {
   "cell_type": "code",
   "execution_count": 25,
   "metadata": {},
   "outputs": [],
   "source": [
    "# A nice online resource is http://mattbierbaum.github.io/ising.js/ which has a good/fast 2d Ising simulation\n",
    "# with code here https://github.com/mattbierbaum/ising.js\n",
    "\n",
    "# You can also find a nicely optimized python version here: http://matthewrocklin.com/blog/work/2015/02/28/Ising\n",
    "#@jit\n",
    "def createAlignedState(N):\n",
    "    \"\"\"\n",
    "    Returns a state in which every spin is pointing up as an N by N numpy array\n",
    "    \"\"\"\n",
    "    return np.ones([N,N])\n",
    "#@jit\n",
    "def createJArray(state):\n",
    "    J = np.random.uniform(size = [state.size, state.size])\n",
    "    J += J.T\n",
    "    return J\n",
    "#@jit\n",
    "def indexToCoord(index, state):\n",
    "    return np.unravel_index(index, state.shape)\n",
    "#@jit\n",
    "def coordToIndex(spin, state):\n",
    "    return np.ravel_multi_index(spin, state.shape)\n",
    "\n",
    "def createRandState(N):\n",
    "    \"\"\"\n",
    "    Returns a state in which every spin is randomized as an N by N numpy array\n",
    "    \"\"\"\n",
    "    return np.random.choice([-1, 1], size = [N,N])\n",
    "\n",
    "def calcTotalEnergy(state, J, mu, B):\n",
    "    \"\"\"\n",
    "    Calculates the total energy in the presence of an external field B with the equation\n",
    "    E = -J (Sum_neighbors s_i*s_j) - mu * B * (Sum s_i)\n",
    "    \n",
    "    args:\n",
    "        state: a 2d numpy array of +1 or -1\n",
    "        J: The self coupling term                    array type\n",
    "        mu: The magnetic moment                      float\n",
    "        B: The external, applied field               float\n",
    "    returns:\n",
    "        Energy: The energy of the state\n",
    "    \"\"\"\n",
    "    (xSize, ySize) = state.shape\n",
    "    JSize = state.size\n",
    "    Energy = 0\n",
    "    for x in range(xSize):\n",
    "        for y in range(ySize):\n",
    "            #print(x)\n",
    "            #print(y)\n",
    "            # Compute the interaction term with the 2 neighbors that are +1 in each direction\n",
    "            Energy += -J[indexToCoord(coordToIndex(((x + 1) % xSize ,y), state), J)] * state[x,y] * state[(x+1) % xSize,y]\n",
    "            #print(indexToCoord(coordToIndex(((x+1) % xSize,y), state) % JSize, J))\n",
    "            Energy += -J[indexToCoord((coordToIndex((x,(y + 1) % ySize), state) + ySize), J)] * state[x,y] * state[x,(y+1) % ySize]  \n",
    "            # Compute the interaction term with the field\n",
    "            Energy += -mu*B*state[x,y]\n",
    "            #print(Energy)\n",
    "    return Energy\n",
    "#@jit\n",
    "def pickRandSite(state):\n",
    "    \"\"\"\n",
    "    Returns a randomly chosen site within the state\n",
    "    \"\"\"\n",
    "    (xSize, ySize) = state.shape\n",
    "    return (np.random.randint(xSize), np.random.randint(ySize))\n",
    "#@jit\n",
    "def calcDeltaE(state, site, J, mu, B):\n",
    "    \"\"\"\n",
    "    Returns the change in energy due to flipping the spin at the given site\n",
    "    \n",
    "    args:\n",
    "        state: a 2d numpy array of +1 or -1\n",
    "        site: the chosen site\n",
    "    returns:\n",
    "        deltaE: The change in energy\n",
    "    \"\"\"    \n",
    "    (xSize, ySize) = state.shape\n",
    "    JSize = state.size\n",
    "    #print((site[0]+1, site[1]-1))\n",
    "    deltaEField = 2 * mu * B * state[site] \n",
    "    deltaENeighbors = 2 * state[site]*(\n",
    "              state[(site[0]-1) % xSize, site[1]] * J[indexToCoord(coordToIndex(((site[0]-1)%xSize,site[1]), state), J)]\n",
    "            + state[(site[0]+1) % xSize, site[1]] * J[indexToCoord(coordToIndex(((site[0]+1)%xSize,site[1]), state), J)]\n",
    "            + state[site[0], (site[1]-1) % ySize] * J[indexToCoord((coordToIndex((site[0],(site[1]-1)%ySize), state) - ySize) % JSize, J)]\n",
    "            + state[site[0], (site[1]+1) % ySize] * J[indexToCoord((coordToIndex((site[0],(site[1]+1)%ySize), state) + ySize) % JSize, J)]\n",
    "        )\n",
    "    return deltaENeighbors + deltaEField\n",
    "#@jit   \n",
    "def ising2D(state, T, nFrames, J, mu=1, B=.1):\n",
    "    \"\"\"\n",
    "    Runs the ising simulation for a specified number of frames, where a\n",
    "    frame is the number of steps needed to interrogate every site once, on\n",
    "    average.  Thus a frame is state.size steps\n",
    "    \n",
    "    args:\n",
    "        state: a 2d numpy array of +1 or -1\n",
    "        T: The temperature, given in energy units\n",
    "        nFrames: The number of frames to run for\n",
    "        B: The strength of the B-field\n",
    "    \"\"\"    \n",
    "    nSteps = nFrames*state.size\n",
    "    # Keep track of the total energy and magnetization of the system\n",
    "    E = [calcTotalEnergy(state, J, mu, B)]\n",
    "    M = [np.sum(state)]\n",
    "       \n",
    "    for t in range(1,nSteps):\n",
    "        proposedSite = pickRandSite(state)\n",
    "        deltaE = calcDeltaE(state, proposedSite, J, mu, B)\n",
    "        # print(proposedSite, deltaE)\n",
    "        #Accept the state if it lowers the energy or with probability e^(-deltaE/T)\n",
    "        if ( deltaE <= 0 ) or ( np.random.rand() < np.exp(-deltaE/T) ):\n",
    "            state[proposedSite] *= -1;\n",
    "            E.append(E[-1] + deltaE)\n",
    "            M.append(M[-1] + 2*state[proposedSite])\n",
    "        else:\n",
    "            E.append(E[-1])\n",
    "            M.append(M[-1])\n",
    "    \n",
    "    R = correlationFunc(state)\n",
    "    \n",
    "    return state, np.array(E), np.array(M), R\n",
    "\n",
    "def arrayRoll(state, r, axis_num):\n",
    "    return np.roll(state, r, axis = axis_num)\n",
    "\n",
    "def correlationFunc(state):\n",
    "    global nSide\n",
    "    \"\"\"\n",
    "    c(r) = (s_i*s_j).average - (s_i).average**2\n",
    "    \n",
    "    \"\"\"\n",
    "    s_i_j = []\n",
    "    s_i = []\n",
    "    for r in range(1, int(nSide/2)+1):\n",
    "        for f in range(1, int(nSide/2)+1):\n",
    "            s_i.append(state[r, f])\n",
    "            vertical_roll = arrayRoll(state, r, 0)\n",
    "            horizontal_roll = arrayRoll(state, f, 1)\n",
    "            s_i_j.append(state[1,0] * horizontal_roll)\n",
    "        s_i_j.append(state[0,0] * vertical_roll)\n",
    "    R = (np.mean(s_i_j) - np.mean(s_i)**2)\n",
    "            \n",
    "    return R"
   ]
  },
  {
   "cell_type": "code",
   "execution_count": 40,
   "metadata": {
    "scrolled": true
   },
   "outputs": [
    {
     "name": "stdout",
     "output_type": "stream",
     "text": [
      "Temperature 1.0 took 14.391309261322021 seconds to run 1000 frames\n",
      "Temperature 1.1 took 14.934265613555908 seconds to run 1000 frames\n",
      "Temperature 1.2000000000000002 took 14.810161590576172 seconds to run 1000 frames\n",
      "Temperature 1.3000000000000003 took 14.934752225875854 seconds to run 1000 frames\n",
      "Temperature 1.4000000000000004 took 15.644565343856812 seconds to run 1000 frames\n",
      "Temperature 1.5000000000000004 took 14.494062423706055 seconds to run 1000 frames\n",
      "Temperature 1.6000000000000005 took 14.624613285064697 seconds to run 1000 frames\n",
      "Temperature 1.7000000000000006 took 15.295609712600708 seconds to run 1000 frames\n",
      "Temperature 1.8000000000000007 took 14.334476947784424 seconds to run 1000 frames\n",
      "Temperature 1.9000000000000008 took 16.01649022102356 seconds to run 1000 frames\n",
      "Temperature 2.000000000000001 took 14.76821517944336 seconds to run 1000 frames\n",
      "Temperature 2.100000000000001 took 15.179967164993286 seconds to run 1000 frames\n",
      "Temperature 2.200000000000001 took 14.491045951843262 seconds to run 1000 frames\n",
      "Temperature 2.300000000000001 took 14.824992418289185 seconds to run 1000 frames\n",
      "Temperature 2.4000000000000012 took 14.44816541671753 seconds to run 1000 frames\n",
      "Temperature 2.5000000000000013 took 14.453126430511475 seconds to run 1000 frames\n",
      "Temperature 2.6000000000000014 took 14.62061882019043 seconds to run 1000 frames\n",
      "Temperature 2.7000000000000015 took 14.990533351898193 seconds to run 1000 frames\n",
      "Temperature 2.8000000000000016 took 14.434187889099121 seconds to run 1000 frames\n",
      "Temperature 2.9000000000000017 took 14.965606689453125 seconds to run 1000 frames\n",
      "Temperature 3.0000000000000018 took 14.738282442092896 seconds to run 1000 frames\n",
      "Temperature 3.100000000000002 took 15.705971240997314 seconds to run 1000 frames\n",
      "Temperature 3.200000000000002 took 14.808123111724854 seconds to run 1000 frames\n",
      "Temperature 3.300000000000002 took 14.476102828979492 seconds to run 1000 frames\n",
      "Temperature 3.400000000000002 took 16.01944923400879 seconds to run 1000 frames\n",
      "Temperature 3.500000000000002 took 15.562834024429321 seconds to run 1000 frames\n",
      "Temperature 3.6000000000000023 took 14.806101083755493 seconds to run 1000 frames\n",
      "Temperature 3.7000000000000024 took 14.876873254776001 seconds to run 1000 frames\n",
      "Temperature 3.8000000000000025 took 15.760255813598633 seconds to run 1000 frames\n",
      "Temperature 3.9000000000000026 took 17.908875703811646 seconds to run 1000 frames\n"
     ]
    },
    {
     "data": {
      "text/plain": [
       "<matplotlib.text.Text at 0x102b31cc4ba8>"
      ]
     },
     "execution_count": 40,
     "metadata": {},
     "output_type": "execute_result"
    },
    {
     "data": {
      "image/png": "[encoded data removed]",
      "text/plain": [
       "<matplotlib.figure.Figure at 0x102b315e1470>"
      ]
     },
     "metadata": {},
     "output_type": "display_data"
    },
    {
     "data": {
      "image/png": "[encoded data removed]",
      "text/plain": [
       "<matplotlib.figure.Figure at 0x102b31503cc0>"
      ]
     },
     "metadata": {},
     "output_type": "display_data"
    },
    {
     "data": {
      "image/png": "[encoded data removed]",
      "text/plain": [
       "<matplotlib.figure.Figure at 0x102b31503128>"
      ]
     },
     "metadata": {},
     "output_type": "display_data"
    },
    {
     "data": {
      "image/png": "[encoded data removed]",
      "text/plain": [
       "<matplotlib.figure.Figure at 0x192c2d81978>"
      ]
     },
     "metadata": {},
     "output_type": "display_data"
    },
    {
     "data": {
      "image/png": "[encoded data removed]",
      "text/plain": [
       "<matplotlib.figure.Figure at 0x102b301a4940>"
      ]
     },
     "metadata": {},
     "output_type": "display_data"
    }
   ],
   "source": [
    "nFrames=1000\n",
    "temperature = np.arange(1, 4, .1)\n",
    "meanE=[]\n",
    "meanM=[]\n",
    "meanESq=[]\n",
    "meanMSq=[]\n",
    "Corr_R=[]\n",
    "for T in temperature:\n",
    "    start = time.time()\n",
    "    nSide = 20\n",
    "    state = createRandState(nSide)\n",
    "    finalState, ETemp, MTemp, R = ising2D(state, T, nFrames, createJArray(state))\n",
    "    meanE.append(np.mean(ETemp))\n",
    "    meanM.append(np.mean(MTemp))\n",
    "    meanESq.append(np.mean(ETemp**2))\n",
    "    meanMSq.append(np.mean(MTemp**2))\n",
    "    Corr_R.append(R)\n",
    "    end = time.time()\n",
    "    print(f'Temperature {T} took {end-start} seconds to run {nFrames} frames')\n",
    "\n",
    "plt.figure(0)\n",
    "plt.plot(temperature, np.array(meanE)/(nSide*nSide),'o')\n",
    "plt.xlabel('Temperature')\n",
    "plt.ylabel('$E/N_{sites}$')\n",
    "\n",
    "plt.figure(1)\n",
    "plt.plot(temperature, np.array(meanM)/(nSide*nSide),'o')\n",
    "plt.xlabel('Temperature')\n",
    "plt.ylabel('$M/N_{sites}$')\n",
    "\n",
    "plt.figure(2)\n",
    "plt.plot(temperature, np.array(meanESq)/(nSide*nSide),'o')\n",
    "plt.xlabel('Temperature')\n",
    "plt.ylabel('$E^2/N_{sites}$')\n",
    "\n",
    "plt.figure(3)\n",
    "plt.plot(temperature, np.array(meanMSq)/(nSide*nSide),'o')\n",
    "plt.xlabel('Temperature')\n",
    "plt.ylabel('$M^2/N_{sites}$')\n",
    "\n",
    "plt.figure(4)\n",
    "plt.bar(temperature, -np.array(Corr_R))\n",
    "plt.xlabel('Tempurature')\n",
    "plt.ylabel('-Correlation')"
   ]
  },
  {
   "cell_type": "code",
   "execution_count": 49,
   "metadata": {},
   "outputs": [
    {
     "ename": "ValueError",
     "evalue": "bins must increase monotonically.",
     "output_type": "error",
     "traceback": [
      "\u001b[1;31m---------------------------------------------------------------------------\u001b[0m",
      "\u001b[1;31mValueError\u001b[0m                                Traceback (most recent call last)",
      "\u001b[1;32m<ipython-input-49-a48864f3264b>\u001b[0m in \u001b[0;36m<module>\u001b[1;34m()\u001b[0m\n\u001b[1;32m----> 1\u001b[1;33m \u001b[0mplt\u001b[0m\u001b[1;33m.\u001b[0m\u001b[0mhist\u001b[0m\u001b[1;33m(\u001b[0m\u001b[0mtemperature\u001b[0m\u001b[1;33m,\u001b[0m \u001b[0mnp\u001b[0m\u001b[1;33m.\u001b[0m\u001b[0marray\u001b[0m\u001b[1;33m(\u001b[0m\u001b[0mCorr_R\u001b[0m\u001b[1;33m)\u001b[0m\u001b[1;33m)\u001b[0m\u001b[1;33m\u001b[0m\u001b[0m\n\u001b[0m\u001b[0;32m      2\u001b[0m \u001b[0mprint\u001b[0m\u001b[1;33m(\u001b[0m\u001b[0mtemperature\u001b[0m\u001b[1;33m)\u001b[0m\u001b[1;33m\u001b[0m\u001b[0m\n",
      "\u001b[1;32mC:\\Users\\Christian\\Anaconda3\\lib\\site-packages\\matplotlib\\pyplot.py\u001b[0m in \u001b[0;36mhist\u001b[1;34m(x, bins, range, normed, weights, cumulative, bottom, histtype, align, orientation, rwidth, log, color, label, stacked, hold, data, **kwargs)\u001b[0m\n\u001b[0;32m   3079\u001b[0m                       \u001b[0mhisttype\u001b[0m\u001b[1;33m=\u001b[0m\u001b[0mhisttype\u001b[0m\u001b[1;33m,\u001b[0m \u001b[0malign\u001b[0m\u001b[1;33m=\u001b[0m\u001b[0malign\u001b[0m\u001b[1;33m,\u001b[0m \u001b[0morientation\u001b[0m\u001b[1;33m=\u001b[0m\u001b[0morientation\u001b[0m\u001b[1;33m,\u001b[0m\u001b[1;33m\u001b[0m\u001b[0m\n\u001b[0;32m   3080\u001b[0m                       \u001b[0mrwidth\u001b[0m\u001b[1;33m=\u001b[0m\u001b[0mrwidth\u001b[0m\u001b[1;33m,\u001b[0m \u001b[0mlog\u001b[0m\u001b[1;33m=\u001b[0m\u001b[0mlog\u001b[0m\u001b[1;33m,\u001b[0m \u001b[0mcolor\u001b[0m\u001b[1;33m=\u001b[0m\u001b[0mcolor\u001b[0m\u001b[1;33m,\u001b[0m \u001b[0mlabel\u001b[0m\u001b[1;33m=\u001b[0m\u001b[0mlabel\u001b[0m\u001b[1;33m,\u001b[0m\u001b[1;33m\u001b[0m\u001b[0m\n\u001b[1;32m-> 3081\u001b[1;33m                       stacked=stacked, data=data, **kwargs)\n\u001b[0m\u001b[0;32m   3082\u001b[0m     \u001b[1;32mfinally\u001b[0m\u001b[1;33m:\u001b[0m\u001b[1;33m\u001b[0m\u001b[0m\n\u001b[0;32m   3083\u001b[0m         \u001b[0max\u001b[0m\u001b[1;33m.\u001b[0m\u001b[0m_hold\u001b[0m \u001b[1;33m=\u001b[0m \u001b[0mwashold\u001b[0m\u001b[1;33m\u001b[0m\u001b[0m\n",
      "\u001b[1;32mC:\\Users\\Christian\\Anaconda3\\lib\\site-packages\\matplotlib\\__init__.py\u001b[0m in \u001b[0;36minner\u001b[1;34m(ax, *args, **kwargs)\u001b[0m\n\u001b[0;32m   1895\u001b[0m                     warnings.warn(msg % (label_namer, func.__name__),\n\u001b[0;32m   1896\u001b[0m                                   RuntimeWarning, stacklevel=2)\n\u001b[1;32m-> 1897\u001b[1;33m             \u001b[1;32mreturn\u001b[0m \u001b[0mfunc\u001b[0m\u001b[1;33m(\u001b[0m\u001b[0max\u001b[0m\u001b[1;33m,\u001b[0m \u001b[1;33m*\u001b[0m\u001b[0margs\u001b[0m\u001b[1;33m,\u001b[0m \u001b[1;33m**\u001b[0m\u001b[0mkwargs\u001b[0m\u001b[1;33m)\u001b[0m\u001b[1;33m\u001b[0m\u001b[0m\n\u001b[0m\u001b[0;32m   1898\u001b[0m         \u001b[0mpre_doc\u001b[0m \u001b[1;33m=\u001b[0m \u001b[0minner\u001b[0m\u001b[1;33m.\u001b[0m\u001b[0m__doc__\u001b[0m\u001b[1;33m\u001b[0m\u001b[0m\n\u001b[0;32m   1899\u001b[0m         \u001b[1;32mif\u001b[0m \u001b[0mpre_doc\u001b[0m \u001b[1;32mis\u001b[0m \u001b[1;32mNone\u001b[0m\u001b[1;33m:\u001b[0m\u001b[1;33m\u001b[0m\u001b[0m\n",
      "\u001b[1;32mC:\\Users\\Christian\\Anaconda3\\lib\\site-packages\\matplotlib\\axes\\_axes.py\u001b[0m in \u001b[0;36mhist\u001b[1;34m(***failed resolving arguments***)\u001b[0m\n\u001b[0;32m   6193\u001b[0m             \u001b[1;31m# this will automatically overwrite bins,\u001b[0m\u001b[1;33m\u001b[0m\u001b[1;33m\u001b[0m\u001b[0m\n\u001b[0;32m   6194\u001b[0m             \u001b[1;31m# so that each histogram uses the same bins\u001b[0m\u001b[1;33m\u001b[0m\u001b[1;33m\u001b[0m\u001b[0m\n\u001b[1;32m-> 6195\u001b[1;33m             \u001b[0mm\u001b[0m\u001b[1;33m,\u001b[0m \u001b[0mbins\u001b[0m \u001b[1;33m=\u001b[0m \u001b[0mnp\u001b[0m\u001b[1;33m.\u001b[0m\u001b[0mhistogram\u001b[0m\u001b[1;33m(\u001b[0m\u001b[0mx\u001b[0m\u001b[1;33m[\u001b[0m\u001b[0mi\u001b[0m\u001b[1;33m]\u001b[0m\u001b[1;33m,\u001b[0m \u001b[0mbins\u001b[0m\u001b[1;33m,\u001b[0m \u001b[0mweights\u001b[0m\u001b[1;33m=\u001b[0m\u001b[0mw\u001b[0m\u001b[1;33m[\u001b[0m\u001b[0mi\u001b[0m\u001b[1;33m]\u001b[0m\u001b[1;33m,\u001b[0m \u001b[1;33m**\u001b[0m\u001b[0mhist_kwargs\u001b[0m\u001b[1;33m)\u001b[0m\u001b[1;33m\u001b[0m\u001b[0m\n\u001b[0m\u001b[0;32m   6196\u001b[0m             \u001b[0mm\u001b[0m \u001b[1;33m=\u001b[0m \u001b[0mm\u001b[0m\u001b[1;33m.\u001b[0m\u001b[0mastype\u001b[0m\u001b[1;33m(\u001b[0m\u001b[0mfloat\u001b[0m\u001b[1;33m)\u001b[0m  \u001b[1;31m# causes problems later if it's an int\u001b[0m\u001b[1;33m\u001b[0m\u001b[0m\n\u001b[0;32m   6197\u001b[0m             \u001b[1;32mif\u001b[0m \u001b[0mmlast\u001b[0m \u001b[1;32mis\u001b[0m \u001b[1;32mNone\u001b[0m\u001b[1;33m:\u001b[0m\u001b[1;33m\u001b[0m\u001b[0m\n",
      "\u001b[1;32mC:\\Users\\Christian\\Anaconda3\\lib\\site-packages\\numpy\\lib\\function_base.py\u001b[0m in \u001b[0;36mhistogram\u001b[1;34m(a, bins, range, normed, weights, density)\u001b[0m\n\u001b[0;32m    781\u001b[0m         \u001b[1;32mif\u001b[0m \u001b[1;33m(\u001b[0m\u001b[0mnp\u001b[0m\u001b[1;33m.\u001b[0m\u001b[0mdiff\u001b[0m\u001b[1;33m(\u001b[0m\u001b[0mbins\u001b[0m\u001b[1;33m)\u001b[0m \u001b[1;33m<\u001b[0m \u001b[1;36m0\u001b[0m\u001b[1;33m)\u001b[0m\u001b[1;33m.\u001b[0m\u001b[0many\u001b[0m\u001b[1;33m(\u001b[0m\u001b[1;33m)\u001b[0m\u001b[1;33m:\u001b[0m\u001b[1;33m\u001b[0m\u001b[0m\n\u001b[0;32m    782\u001b[0m             raise ValueError(\n\u001b[1;32m--> 783\u001b[1;33m                 'bins must increase monotonically.')\n\u001b[0m\u001b[0;32m    784\u001b[0m \u001b[1;33m\u001b[0m\u001b[0m\n\u001b[0;32m    785\u001b[0m         \u001b[1;31m# Initialize empty histogram\u001b[0m\u001b[1;33m\u001b[0m\u001b[1;33m\u001b[0m\u001b[0m\n",
      "\u001b[1;31mValueError\u001b[0m: bins must increase monotonically."
     ]
    },
    {
     "data": {
      "image/png": "[encoded data removed]",
      "text/plain": [
       "<matplotlib.figure.Figure at 0x102b3042ca90>"
      ]
     },
     "metadata": {},
     "output_type": "display_data"
    }
   ],
   "source": [
    "plt.hist(temperature, np.array(Corr_R))\n",
    "print(temperature)"
   ]
  }
 ],
 "metadata": {
  "kernelspec": {
   "display_name": "Python 3",
   "language": "python",
   "name": "python3"
  },
  "language_info": {
   "codemirror_mode": {
    "name": "ipython",
    "version": 3
   },
   "file_extension": ".py",
   "mimetype": "text/x-python",
   "name": "python",
   "nbconvert_exporter": "python",
   "pygments_lexer": "ipython3",
   "version": "3.6.1"
  }
 },
 "nbformat": 4,
 "nbformat_minor": 2
}
