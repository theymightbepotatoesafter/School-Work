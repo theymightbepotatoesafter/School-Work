{
 "cells": [
  {
   "cell_type": "code",
   "execution_count": null,
   "metadata": {
    "collapsed": true
   },
   "outputs": [],
   "source": [
    "'''                          \n",
    "Assignment Code\n",
    "CIS 210 Project 4-1 Testing\n",
    "\n",
    "Author: Christian Carter\n",
    "\n",
    "Credits: N/A\n",
    "\n",
    "Write code that satisfies the requirements set out in p41-testfuncs-W21.pdf\n",
    "'''"
   ]
  },
  {
   "cell_type": "code",
   "execution_count": 2,
   "metadata": {},
   "outputs": [],
   "source": [
    "import p34_sscount_sol_W21 as p34"
   ]
  },
  {
   "cell_type": "code",
   "execution_count": 80,
   "metadata": {},
   "outputs": [],
   "source": [
    "def test_sscount(f, args, expected_result):\n",
    "    \"\"\"\n",
    "    (function, string, int) -> string\n",
    "    \n",
    "    User inputs a function, f, arguments for the function, args, and the expected result, expected_result, and is returned \n",
    "    whether the function operates correctly or not.\n",
    "    \n",
    "    >>> test_sscount(p34.sscount0, \"sses assesses\", 2)\n",
    "    testing sscount0\n",
    "    Checking sess assesses ...\n",
    "    its value 2 is correct!\n",
    "    \n",
    "    >>> test_sscount(p34.sscount0, \"an trans-Panamanian banana\", 6)\n",
    "    testing sscount0\n",
    "    Checking an trans-Panamanian banana ...\n",
    "    its value 6 is correct!\n",
    "    \n",
    "    \"\"\"\n",
    "    \n",
    "    needle = \"\"\n",
    "    haystack = \"\"\n",
    "    final_result = 0\n",
    "    for char in range(len(args)):\n",
    "        if args[char] == ' ':\n",
    "            needle = args[:char]\n",
    "            haystack = args[char + 1:]\n",
    "            break\n",
    "    \n",
    "    final_result = f(needle, haystack)\n",
    "    \n",
    "    if final_result != expected_result:\n",
    "        print(\"testing %s\" % f.__name__)\n",
    "        print(\"Checking %s %s ...\" % (needle, haystack))\n",
    "        print(\"its value %i is incorrect!\" % final_result)\n",
    "        print(\"\")\n",
    "    #else:\n",
    "        #print(\"testing %s\" % f.__name__)\n",
    "        #print(\"Checking %s %s ...\" % (needle, haystack))\n",
    "        #print(\"its value %i is correct!\" % final_result)\n",
    "        #print(\"\")\n",
    "    \n",
    "    return None"
   ]
  },
  {
   "cell_type": "code",
   "execution_count": 78,
   "metadata": {},
   "outputs": [],
   "source": [
    "def main():\n",
    "    \"\"\"\"\"\"\n",
    "    strings = ['sses assesses', 'an trans-Panamanian banana', 'needle haystack', '!!! !!!!!', \n",
    "               'o pneumonoultramicroscopicsilicovolcanoconiosis', '', 'a ', ' abc', 'a a']\n",
    "    expected_results = [2, 6, 0, 3, 9, 0, 0, 0, 1]\n",
    "    for i in range(len(expected_results)):\n",
    "        test_sscount(p34.sscount0, strings[i], expected_results[i])\n",
    "        test_sscount(p34.sscount1, strings[i], expected_results[i])\n",
    "    return None"
   ]
  },
  {
   "cell_type": "code",
   "execution_count": 81,
   "metadata": {},
   "outputs": [
    {
     "name": "stdout",
     "output_type": "stream",
     "text": [
      "testing sscount0\n",
      "Checking  abc ...\n",
      "its value 3 is incorrect!\n",
      "\n",
      "testing sscount1\n",
      "Checking  abc ...\n",
      "its value 3 is incorrect!\n",
      "\n"
     ]
    }
   ],
   "source": [
    "main()"
   ]
  }
 ],
 "metadata": {
  "kernelspec": {
   "display_name": "Python 3",
   "language": "python",
   "name": "python3"
  },
  "language_info": {
   "codemirror_mode": {
    "name": "ipython",
    "version": 3
   },
   "file_extension": ".py",
   "mimetype": "text/x-python",
   "name": "python",
   "nbconvert_exporter": "python",
   "pygments_lexer": "ipython3",
   "version": "3.6.1"
  }
 },
 "nbformat": 4,
 "nbformat_minor": 2
}
