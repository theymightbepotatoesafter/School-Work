{
 "cells": [
  {
   "cell_type": "code",
   "execution_count": null,
   "metadata": {
    "collapsed": true
   },
   "outputs": [],
   "source": [
    "'''                          \n",
    "Assignment Code\n",
    "CIS 210 Project 2-0 Learning Looping\n",
    "\n",
    "Author: Christian Carter\n",
    "\n",
    "Credits: N/A\n",
    "\n",
    "Writen code that satisfies the requirements set out in p20-looping-W21.pdf\n",
    "'''"
   ]
  },
  {
   "cell_type": "code",
   "execution_count": 3,
   "metadata": {
    "collapsed": true
   },
   "outputs": [],
   "source": [
    "def q6_better():\n",
    "    '''\n",
    "    (none) -> int\n",
    "    \n",
    "    No user input and won't return anything\n",
    "    \n",
    "    >>> q6()\n",
    "    \n",
    "    '''\n",
    "    p = 1\n",
    "    for i in range(4):\n",
    "        i = 1            \n",
    "        p = p * 2\n",
    "        i += 1\n",
    "\n",
    "    return p"
   ]
  },
  {
   "cell_type": "code",
   "execution_count": 8,
   "metadata": {
    "collapsed": true
   },
   "outputs": [],
   "source": [
    "def q6_final(n, m):\n",
    "    \"\"\"\n",
    "    (int, int) -> int\n",
    "    \n",
    "    User inputs two integers, n and m, and is returned n raised to the power of m\n",
    "    \n",
    "    >>> q6_final(2, 3)\n",
    "    8\n",
    "    >>> q6_final(4, 5)\n",
    "    1024\n",
    "    \"\"\"\n",
    "    result = n\n",
    "    for i in range(m-1):    # m-1 is needed because of how for loops work\n",
    "        result = result * n\n",
    "        i += 1    \n",
    "    return(result)\n",
    "        "
   ]
  },
  {
   "cell_type": "code",
   "execution_count": null,
   "metadata": {
    "collapsed": true
   },
   "outputs": [],
   "source": [
    "def add_digits2a(n):    \n",
    "    '''(int) --> int    \n",
    "    Return sum of digits of n, a positive 3-digit integer.    \n",
    "    Implement using a while loop.    \n",
    "    >>> add_digits2a(789)    \n",
    "    24    \n",
    "    >>> add_digits2a(101)    \n",
    "    2    \n",
    "    >>> add_digits2a(000)    \n",
    "    0    \n",
    "    '''    \n",
    "    digit_sum = 0    \n",
    "    ctr = 1    \n",
    "    while ctr < 4:        \n",
    "        digit = n % 10        \n",
    "        n = n // 10        \n",
    "        digit_sum += digit        \n",
    "        ctr += 1    \n",
    "        \n",
    "    return digit_sum"
   ]
  },
  {
   "cell_type": "code",
   "execution_count": 25,
   "metadata": {
    "collapsed": true
   },
   "outputs": [],
   "source": [
    "def add_digits2b_better(n):    \n",
    "    \"\"\"\n",
    "    (int) -> int    \n",
    "    \n",
    "    Return sum of digits of n, where n is a    \n",
    "    positive integer of any length.    \n",
    "    \n",
    "    >>> add_digits2b(618)    \n",
    "    15    \n",
    "    >>> add_digits2b(5487)    \n",
    "    24           \n",
    "    \"\"\"    \n",
    "    \n",
    "    digit_sum = 0    \n",
    "    \n",
    "    for i in range(len(str(n))): #I don't think that a for loop would be necessary here becuase it doesn't improve the funtionality at all\n",
    "        digit_sum += int(str(n)[i])      \n",
    "        \n",
    "    return digit_sum"
   ]
  },
  {
   "cell_type": "code",
   "execution_count": 15,
   "metadata": {
    "collapsed": true
   },
   "outputs": [],
   "source": [
    "def add_digits2a_better(n):\n",
    "    \"\"\"\n",
    "    (int) -> int\n",
    "    \n",
    "    User inputs three digit integer and is returned the sum of the digits\n",
    "    \n",
    "    >>> add_digits2a_better(425)\n",
    "    11\n",
    "    >>> add_digits2a_better(259)\n",
    "    16\n",
    "    >>> add_digits2a_better(168)\n",
    "    15\n",
    "    \"\"\"\n",
    "    \n",
    "    digit_sum = 0\n",
    "    for i in range(3):\n",
    "        digit_sum += int(str(n)[i])\n",
    "        \n",
    "    return(digit_sum)"
   ]
  }
 ],
 "metadata": {
  "kernelspec": {
   "display_name": "Python 3",
   "language": "python",
   "name": "python3"
  },
  "language_info": {
   "codemirror_mode": {
    "name": "ipython",
    "version": 3
   },
   "file_extension": ".py",
   "mimetype": "text/x-python",
   "name": "python",
   "nbconvert_exporter": "python",
   "pygments_lexer": "ipython3",
   "version": "3.6.1"
  }
 },
 "nbformat": 4,
 "nbformat_minor": 2
}
