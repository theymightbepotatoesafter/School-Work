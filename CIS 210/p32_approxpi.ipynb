{
 "cells": [
  {
   "cell_type": "code",
   "execution_count": null,
   "metadata": {
    "collapsed": true
   },
   "outputs": [],
   "source": [
    "'''                          \n",
    "Assignment Code\n",
    "CIS 210 Project 2-1 Determining Net Pay\n",
    "\n",
    "Author: Christian Carter\n",
    "\n",
    "Credits: Stack Overflow thread \"https://stackoverflow.com/questions/455612/limiting-floats-to-two-decimal-points\"\n",
    "\n",
    "Writen code that satisfies the requirements set out in p21-netpay-W21.pdf\n",
    "'''"
   ]
  },
  {
   "cell_type": "code",
   "execution_count": 1,
   "metadata": {
    "collapsed": true
   },
   "outputs": [],
   "source": [
    "import math as m\n",
    "import random"
   ]
  },
  {
   "cell_type": "code",
   "execution_count": 2,
   "metadata": {
    "collapsed": true
   },
   "outputs": [],
   "source": [
    "def isInCircle(x, y, r):\n",
    "    \"\"\"\n",
    "    (float, float, float) -> bool\n",
    "    \n",
    "    User inputs a point, (x,y), and a radius, r, and is returned if the point is in the circle of radius r\n",
    "    \n",
    "    >>> isInCircle(0.123409, 0.4444, 1)\n",
    "    True\n",
    "    \"\"\"\n",
    "    if (x**2 + y**2 <= r**2):\n",
    "        return True\n",
    "    else:\n",
    "        return False"
   ]
  },
  {
   "cell_type": "code",
   "execution_count": 3,
   "metadata": {
    "collapsed": true
   },
   "outputs": [],
   "source": [
    "def montePi(numDarts):\n",
    "    \"\"\"\n",
    "    (int) -> float\n",
    "    \n",
    "    User inputs the number of darts to be thrown in the simulation and is returned the approximate value of pi\n",
    "    \n",
    "    >>> montePi(100)\n",
    "    some number close to pi because it can change every time you run the program\n",
    "    \"\"\"\n",
    "    inCircle = 0\n",
    "    \n",
    "    for i in range(numDarts):\n",
    "        x = random.random()\n",
    "        y = random.random()\n",
    "        \n",
    "        if isInCircle(x, y, 1):\n",
    "            inCircle += 1\n",
    "    \n",
    "    pi = inCircle / numDarts * 4\n",
    "    return pi"
   ]
  },
  {
   "cell_type": "code",
   "execution_count": 4,
   "metadata": {
    "collapsed": true
   },
   "outputs": [],
   "source": [
    "def reportPi(numDarts, approxPi):\n",
    "    \"\"\"\n",
    "    (int, float) -> string and float\n",
    "    \n",
    "    User inputs number of darts to be thrown and the approximate value of pi\n",
    "    that was calculated from numDarts and is returned the error on approxPi\n",
    "    \n",
    "    >>> reportPi(1000, 3.141516)\n",
    "    \n",
    "    \"\"\"\n",
    "    error = approxPi / m.pi\n",
    "    print('With %i itterations' % numDarts)\n",
    "    print('my approximate value for pi is: %f' % approxPi)\n",
    "    print('math lib pi value is: %f' % m.pi)\n",
    "    print('This is a %.2f percent error' % error)"
   ]
  },
  {
   "cell_type": "code",
   "execution_count": 5,
   "metadata": {
    "collapsed": true
   },
   "outputs": [],
   "source": [
    "def main():\n",
    "    \"\"\"Runs all of the functions\"\"\"\n",
    "    numDarts = 1000\n",
    "    approxPi = montePi(numDarts)\n",
    "    reportPi(numDarts, approxPi)"
   ]
  },
  {
   "cell_type": "code",
   "execution_count": 6,
   "metadata": {},
   "outputs": [
    {
     "name": "stdout",
     "output_type": "stream",
     "text": [
      "With 1000 itterations\n",
      "my approximate value for pi is: 3.108000\n",
      "math lib pi value is: 3.141593\n",
      "This is a 0.99 percent error\n"
     ]
    }
   ],
   "source": [
    "main()"
   ]
  }
 ],
 "metadata": {
  "kernelspec": {
   "display_name": "Python 3",
   "language": "python",
   "name": "python3"
  },
  "language_info": {
   "codemirror_mode": {
    "name": "ipython",
    "version": 3
   },
   "file_extension": ".py",
   "mimetype": "text/x-python",
   "name": "python",
   "nbconvert_exporter": "python",
   "pygments_lexer": "ipython3",
   "version": "3.6.1"
  }
 },
 "nbformat": 4,
 "nbformat_minor": 2
}
