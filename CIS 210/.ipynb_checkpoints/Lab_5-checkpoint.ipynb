{
 "cells": [
  {
   "cell_type": "code",
   "execution_count": null,
   "metadata": {
    "collapsed": true
   },
   "outputs": [],
   "source": [
    "'''                          \n",
    "Assignment Code\n",
    "CIS 210 Lab 5\n",
    "\n",
    "Author: Christian Carter\n",
    "\n",
    "Credits: N/A\n",
    "\n",
    "Writen code that satisfies the requirements set out in lab5-W21-namemain-strformat.pdf\n",
    "'''"
   ]
  },
  {
   "cell_type": "code",
   "execution_count": 8,
   "metadata": {
    "collapsed": true
   },
   "outputs": [],
   "source": [
    "import doctest"
   ]
  },
  {
   "cell_type": "code",
   "execution_count": 12,
   "metadata": {},
   "outputs": [],
   "source": [
    "def letterHead(s, spacing):\n",
    "    \"\"\"\n",
    "    (string, int) -> none\n",
    "    \n",
    "    User inputs any string, s, and is returned that string surounded by asterisks with side white space defined by spacing \n",
    "    \n",
    "    >>> letterHead(\"Hello, World!\", 4)\n",
    "    ***********************\n",
    "    *    Hello, World!    *\n",
    "    ***********************\n",
    "    \"\"\"\n",
    "    total_length = 2 * (1 + spacing) + len(s)\n",
    "    ws = \" \" * spacing\n",
    "    print(\"*\" * total_length)\n",
    "    print(\"*\" + ws + s + ws + \"*\")\n",
    "    print(\"*\" * total_length)\n",
    "    return None"
   ]
  },
  {
   "cell_type": "code",
   "execution_count": 54,
   "metadata": {
    "collapsed": true
   },
   "outputs": [],
   "source": [
    "def moneyFormat(money):\n",
    "    \"\"\"\n",
    "    (float) -> None\n",
    "    \n",
    "    User inputs a float, money, and is returned the value in dollars and whole cents\n",
    "    \n",
    "    >>> moneyFormat(132896.211388)\n",
    "    $132,896.21\n",
    "    \"\"\"\n",
    "    \n",
    "    print(\"${:.2f:,}\".format(money))\n",
    "    return None"
   ]
  },
  {
   "cell_type": "code",
   "execution_count": 55,
   "metadata": {},
   "outputs": [
    {
     "ename": "ValueError",
     "evalue": "Invalid format specifier",
     "output_type": "error",
     "traceback": [
      "\u001b[1;31m---------------------------------------------------------------------------\u001b[0m",
      "\u001b[1;31mValueError\u001b[0m                                Traceback (most recent call last)",
      "\u001b[1;32m<ipython-input-55-f5ab18589d73>\u001b[0m in \u001b[0;36m<module>\u001b[1;34m()\u001b[0m\n\u001b[1;32m----> 1\u001b[1;33m \u001b[0mmoneyFormat\u001b[0m\u001b[1;33m(\u001b[0m\u001b[1;36m12345.33333\u001b[0m\u001b[1;33m)\u001b[0m\u001b[1;33m\u001b[0m\u001b[0m\n\u001b[0m",
      "\u001b[1;32m<ipython-input-54-9840a4af0574>\u001b[0m in \u001b[0;36mmoneyFormat\u001b[1;34m(money)\u001b[0m\n\u001b[0;32m      9\u001b[0m     \"\"\"\n\u001b[0;32m     10\u001b[0m \u001b[1;33m\u001b[0m\u001b[0m\n\u001b[1;32m---> 11\u001b[1;33m     \u001b[0mprint\u001b[0m\u001b[1;33m(\u001b[0m\u001b[1;34m\"${:.2f:,}\"\u001b[0m\u001b[1;33m.\u001b[0m\u001b[0mformat\u001b[0m\u001b[1;33m(\u001b[0m\u001b[0mmoney\u001b[0m\u001b[1;33m)\u001b[0m\u001b[1;33m)\u001b[0m\u001b[1;33m\u001b[0m\u001b[0m\n\u001b[0m\u001b[0;32m     12\u001b[0m     \u001b[1;32mreturn\u001b[0m \u001b[1;32mNone\u001b[0m\u001b[1;33m\u001b[0m\u001b[0m\n",
      "\u001b[1;31mValueError\u001b[0m: Invalid format specifier"
     ]
    }
   ],
   "source": [
    "moneyFormat(12345.33333)"
   ]
  },
  {
   "cell_type": "code",
   "execution_count": 16,
   "metadata": {},
   "outputs": [
    {
     "name": "stdout",
     "output_type": "stream",
     "text": [
      "TestResults(failed=0, attempted=2)\n"
     ]
    }
   ],
   "source": [
    "print(doctest.testmod())"
   ]
  }
 ],
 "metadata": {
  "kernelspec": {
   "display_name": "Python 3",
   "language": "python",
   "name": "python3"
  },
  "language_info": {
   "codemirror_mode": {
    "name": "ipython",
    "version": 3
   },
   "file_extension": ".py",
   "mimetype": "text/x-python",
   "name": "python",
   "nbconvert_exporter": "python",
   "pygments_lexer": "ipython3",
   "version": "3.6.1"
  }
 },
 "nbformat": 4,
 "nbformat_minor": 2
}
