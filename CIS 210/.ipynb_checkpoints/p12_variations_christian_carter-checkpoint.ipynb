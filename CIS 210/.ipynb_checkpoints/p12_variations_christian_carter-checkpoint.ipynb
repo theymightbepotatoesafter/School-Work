{
 "cells": [
  {
   "cell_type": "code",
   "execution_count": null,
   "metadata": {
    "collapsed": true
   },
   "outputs": [],
   "source": [
    "'''                          # FILE HEADER\n",
    "Assignment Code\n",
    "CIS 210 Project 1-2 Python Variations\n",
    "\n",
    "Author: Christian Carter\n",
    "\n",
    "Credits: N/A\n",
    "\n",
    "Write code that satisfies the requirements set out in p12-variations-W21.pdf\n",
    "'''"
   ]
  },
  {
   "cell_type": "code",
   "execution_count": 30,
   "metadata": {
    "collapsed": true
   },
   "outputs": [],
   "source": [
    "def convert(int1, int2, int3):\n",
    "    \"\"\" (int, int, int) -> int\n",
    "        \n",
    "        User inputs three integers and is returned a number using the integers as digits\n",
    "        \n",
    "        >>> convert(4, 7, 2)\n",
    "        274\n",
    "        >>> convert(0, 1, 0)\n",
    "        10\n",
    "    \"\"\"\n",
    "    h_place = int3 * 100\n",
    "    t_place = int2 * 10\n",
    "    o_place = int1 \n",
    "    return(h_place + t_place + o_place)"
   ]
  },
  {
   "cell_type": "code",
   "execution_count": 59,
   "metadata": {},
   "outputs": [],
   "source": [
    "def add_digits(number):\n",
    "    \"\"\" (int) -> int\n",
    "        \n",
    "        User inputs 3 digit number and is returned the sum of the digits\n",
    "        \n",
    "        >>> add_digits(294)\n",
    "        15\n",
    "        >>> add_digits(111)\n",
    "        3\n",
    "    \"\"\"\n",
    "    num = 0\n",
    "    num_string = str(number)\n",
    "    num_string[0] + num_string[1] + num_string[2]\n",
    "    return(num)"
   ]
  },
  {
   "cell_type": "code",
   "execution_count": 55,
   "metadata": {},
   "outputs": [],
   "source": [
    "def add_digits2(number):\n",
    "    \"\"\" (int) -> int\n",
    "        \n",
    "        User inputs number and is returned the sum of the digits\n",
    "        \n",
    "        >>> add_digits(294)\n",
    "        15\n",
    "        >>> add_digits(111)\n",
    "        3\n",
    "    \"\"\"\n",
    "    num = 0\n",
    "    num_string = str(number)\n",
    "    i = 0\n",
    "    while i < len(num_string):\n",
    "        num += int(num_string[i])\n",
    "        i += 1\n",
    "    return(num)"
   ]
  },
  {
   "cell_type": "code",
   "execution_count": 62,
   "metadata": {},
   "outputs": [],
   "source": [
    "def profit(attendees):\n",
    "    \"\"\" (int) -> money\n",
    "    \n",
    "        User inputs number of attendees and is returned the expected profit\n",
    "        \n",
    "        >>> profit(12)\n",
    "        34.0\n",
    "        >>> profit(20)\n",
    "        70.0\n",
    "    \n",
    "    \"\"\"\n",
    "    cost = 20 + (0.5 * attendees)\n",
    "    money = attendees * 5\n",
    "    profit = money - cost\n",
    "    return(profit)"
   ]
  }
 ],
 "metadata": {
  "kernelspec": {
   "display_name": "Python 3",
   "language": "python",
   "name": "python3"
  },
  "language_info": {
   "codemirror_mode": {
    "name": "ipython",
    "version": 3
   },
   "file_extension": ".py",
   "mimetype": "text/x-python",
   "name": "python",
   "nbconvert_exporter": "python",
   "pygments_lexer": "ipython3",
   "version": "3.6.1"
  }
 },
 "nbformat": 4,
 "nbformat_minor": 2
}
