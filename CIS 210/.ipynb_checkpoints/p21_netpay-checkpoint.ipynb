{
 "cells": [
  {
   "cell_type": "code",
   "execution_count": null,
   "metadata": {
    "collapsed": true
   },
   "outputs": [],
   "source": [
    "'''                          \n",
    "Assignment Code\n",
    "CIS 210 Project 2-1 Determining Net Pay\n",
    "\n",
    "Author: Christian Carter\n",
    "\n",
    "Credits: Stack Overflow thread \"https://stackoverflow.com/questions/455612/limiting-floats-to-two-decimal-points\"\n",
    "\n",
    "Writen code that satisfies the requirements set out in p21-netpay-W21.pdf\n",
    "'''"
   ]
  },
  {
   "cell_type": "code",
   "execution_count": 1,
   "metadata": {
    "collapsed": true
   },
   "outputs": [],
   "source": [
    "def tax(gross_pay):\n",
    "    \"\"\"\n",
    "    (float) -> float\n",
    "    \n",
    "    User inputs gross pay and is returned the amount of tax that must be paid, 15%\n",
    "    \n",
    "    >>> tax(12348.11)\n",
    "    \n",
    "    >>> tax(17230.63)\n",
    "    \n",
    "    \"\"\"\n",
    "    tax_rate = 0.15\n",
    "    taxes = tax_rate * gross_pay\n",
    "    \n",
    "    return(taxes)"
   ]
  },
  {
   "cell_type": "code",
   "execution_count": 27,
   "metadata": {},
   "outputs": [
    {
     "data": {
      "text/plain": [
       "2584.5945"
      ]
     },
     "execution_count": 27,
     "metadata": {},
     "output_type": "execute_result"
    }
   ],
   "source": [
    "tax(17230.63)"
   ]
  },
  {
   "cell_type": "code",
   "execution_count": 4,
   "metadata": {
    "collapsed": true
   },
   "outputs": [],
   "source": [
    "def netpay(hours_worked):\n",
    "    \"\"\"\n",
    "    (float) -> float\n",
    "    \n",
    "    User inputs hours worked and is returned net pay\n",
    "    \n",
    "    >>> netpay(27.2)\n",
    "    260.1\n",
    "    >>> netpay(45.6)\n",
    "    436.05\n",
    "    \"\"\"\n",
    "    hourly_rate = 11.25\n",
    "    gross_pay = hourly_rate * hours_worked\n",
    "    net_pay = gross_pay - tax(gross_pay)\n",
    "    net_pay = float(\"{:.2f}\".format(net_pay))\n",
    "    return(net_pay)"
   ]
  },
  {
   "cell_type": "code",
   "execution_count": 24,
   "metadata": {
    "collapsed": true
   },
   "outputs": [],
   "source": [
    "def main():\n",
    "    \"\"\"Returns values from test cases to verify the functions work\"\"\"\n",
    "    hours = [1, 40]\n",
    "    for i in range(len(hours)):\n",
    "        print((\"Working %s hours will earn you $%s dollars!\") % (str(hours[i]), str(netpay(hours[i]))))    \n",
    "    return None"
   ]
  },
  {
   "cell_type": "code",
   "execution_count": 25,
   "metadata": {},
   "outputs": [
    {
     "name": "stdout",
     "output_type": "stream",
     "text": [
      "Working 1 hours will earn you $9.56 dollars!\n",
      "Working 40 hours will earn you $382.5 dollars!\n"
     ]
    }
   ],
   "source": [
    "main()"
   ]
  }
 ],
 "metadata": {
  "kernelspec": {
   "display_name": "Python 3",
   "language": "python",
   "name": "python3"
  },
  "language_info": {
   "codemirror_mode": {
    "name": "ipython",
    "version": 3
   },
   "file_extension": ".py",
   "mimetype": "text/x-python",
   "name": "python",
   "nbconvert_exporter": "python",
   "pygments_lexer": "ipython3",
   "version": "3.6.1"
  }
 },
 "nbformat": 4,
 "nbformat_minor": 2
}
