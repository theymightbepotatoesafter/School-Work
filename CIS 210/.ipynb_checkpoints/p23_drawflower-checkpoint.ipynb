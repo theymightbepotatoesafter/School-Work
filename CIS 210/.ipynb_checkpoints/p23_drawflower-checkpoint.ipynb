{
 "cells": [
  {
   "cell_type": "code",
   "execution_count": 1,
   "metadata": {},
   "outputs": [
    {
     "data": {
      "text/plain": [
       "'                          \\nAssignment Code\\nCIS 210 Project 2-3 Draw Flower\\n\\nAuthor: Christian Carter\\n\\nCredits: N/A\\n\\nWriten code that satisfies the requirements set out in p23-drawflower-W21.pdf\\n'"
      ]
     },
     "execution_count": 1,
     "metadata": {},
     "output_type": "execute_result"
    }
   ],
   "source": [
    "'''                          \n",
    "Assignment Code\n",
    "CIS 210 Project 2-3 Draw Flower\n",
    "\n",
    "Author: Christian Carter\n",
    "\n",
    "Credits: N/A\n",
    "\n",
    "Writen code that satisfies the requirements set out in p23-drawflower-W21.pdf\n",
    "'''"
   ]
  },
  {
   "cell_type": "code",
   "execution_count": 1,
   "metadata": {
    "collapsed": true
   },
   "outputs": [],
   "source": [
    "import turtle as t\n",
    "import math as m"
   ]
  },
  {
   "cell_type": "code",
   "execution_count": 25,
   "metadata": {
    "collapsed": true
   },
   "outputs": [],
   "source": [
    "def drawFlower(num_squares):\n",
    "    \"\"\"\n",
    "    (int) -> none\n",
    "    \n",
    "    User inputs the number of squares they want turtle to draw\n",
    "    \n",
    "    >>> drawFlower(25)\n",
    "    *a picture of a flower with 25 squares*\n",
    "    \"\"\"\n",
    "    #drwing the stem\n",
    "    t.clearscreen()\n",
    "    t.speed(10)\n",
    "    t.pencolor(\"green\")\n",
    "    t.showturtle()\n",
    "    t.penup()\n",
    "    t.screensize(401, 401, 'white')\n",
    "    t.setposition(200,50)\n",
    "    t.setheading(90)\n",
    "    t.pendown()\n",
    "    t.forward(150)\n",
    "    t.penup()\n",
    "    \n",
    "    s\n",
    "    t.setposition(200,200)"
   ]
  },
  {
   "cell_type": "code",
   "execution_count": 28,
   "metadata": {},
   "outputs": [],
   "source": [
    "drawFlower(55)"
   ]
  },
  {
   "cell_type": "code",
   "execution_count": 3,
   "metadata": {
    "collapsed": true
   },
   "outputs": [],
   "source": [
    "def drawPolygon(side_length, num_sides):\n",
    "    pass"
   ]
  },
  {
   "cell_type": "code",
   "execution_count": 4,
   "metadata": {
    "collapsed": true
   },
   "outputs": [],
   "source": [
    "def main():\n",
    "    \n",
    "    pass"
   ]
  }
 ],
 "metadata": {
  "kernelspec": {
   "display_name": "Python 3",
   "language": "python",
   "name": "python3"
  },
  "language_info": {
   "codemirror_mode": {
    "name": "ipython",
    "version": 3
   },
   "file_extension": ".py",
   "mimetype": "text/x-python",
   "name": "python",
   "nbconvert_exporter": "python",
   "pygments_lexer": "ipython3",
   "version": "3.6.1"
  }
 },
 "nbformat": 4,
 "nbformat_minor": 2
}
