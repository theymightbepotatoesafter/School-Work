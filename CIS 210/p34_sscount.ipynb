{
 "cells": [
  {
   "cell_type": "code",
   "execution_count": null,
   "metadata": {
    "collapsed": true
   },
   "outputs": [],
   "source": [
    "'''                          \n",
    "Assignment Code\n",
    "CIS 210 Project 3-4 Python Strings/Counting\n",
    "\n",
    "Author: Christian Carter\n",
    "\n",
    "Credits: N/A\n",
    "\n",
    "Writen code that satisfies the requirements set out in p34-sscount-W21.pdf\n",
    "'''"
   ]
  },
  {
   "cell_type": "code",
   "execution_count": 32,
   "metadata": {},
   "outputs": [],
   "source": [
    "import doctest as DT"
   ]
  },
  {
   "cell_type": "code",
   "execution_count": 43,
   "metadata": {},
   "outputs": [],
   "source": [
    "def sscount0(needle, haystack):\n",
    "    \"\"\"\n",
    "    (str, str) -> int\n",
    "    \n",
    "    User inputs a substring, needle, to be found in the larger string, haystack, and is returned the number of times\n",
    "    the substring occured within the larger string\n",
    "    \n",
    "    >>> sscount0(\"ss\", \"Mississippi\")\n",
    "    2\n",
    "    >>> sscount0(\"'ve\", \"The only thing I've done today is sleep\")\n",
    "    1\n",
    "    >>> sscount0(\"sses\", \"assesses\")\n",
    "    2\n",
    "    >>> sscount0(\"!!!\", \"!!!!!\")\n",
    "    3\n",
    "    \"\"\"\n",
    "    hay_len = len(haystack)\n",
    "    ned_len = len(needle)\n",
    "    occurrances = 0\n",
    "    for i in range(hay_len - ned_len + 1): #the + 1 is needed because the range method isn't inclusive\n",
    "        if (haystack[i:i+ned_len] == needle):\n",
    "            occurrances += 1\n",
    "    return occurrances"
   ]
  },
  {
   "cell_type": "code",
   "execution_count": 42,
   "metadata": {},
   "outputs": [],
   "source": [
    "def sscount1(needle, haystack):\n",
    "    \"\"\"\n",
    "    (str, str) -> int\n",
    "    \n",
    "    User inputs a substring, needle, to be found in the larger string, haystack, and is returned the number of times\n",
    "    the substring occured within the larger string\n",
    "    \n",
    "    >>> sscount1(\"ss\", \"Mississippi\")\n",
    "    2\n",
    "    >>> sscount0(\"'ve\", \"The only thing I've done today is sleep\")\n",
    "    1\n",
    "    >>> sscount1(\"sses\", \"assesses\")\n",
    "    2\n",
    "    >>> sscount1(\"!!!\", \"!!!!!\")\n",
    "    3\n",
    "    \"\"\"\n",
    "    hay_len = len(haystack)\n",
    "    ned_len = len(needle)\n",
    "    occurrences = 0\n",
    "    for i in range(hay_len - ned_len + 1):\n",
    "        if(haystack.startswith(needle, i, ned_len + i)):\n",
    "            occurrences += 1\n",
    "    \n",
    "    return occurrences"
   ]
  },
  {
   "cell_type": "code",
   "execution_count": 44,
   "metadata": {},
   "outputs": [
    {
     "name": "stdout",
     "output_type": "stream",
     "text": [
      "TestResults(failed=0, attempted=9)\n"
     ]
    }
   ],
   "source": [
    "print(DT.testmod())"
   ]
  }
 ],
 "metadata": {
  "kernelspec": {
   "display_name": "Python 3",
   "language": "python",
   "name": "python3"
  },
  "language_info": {
   "codemirror_mode": {
    "name": "ipython",
    "version": 3
   },
   "file_extension": ".py",
   "mimetype": "text/x-python",
   "name": "python",
   "nbconvert_exporter": "python",
   "pygments_lexer": "ipython3",
   "version": "3.6.1"
  }
 },
 "nbformat": 4,
 "nbformat_minor": 2
}
