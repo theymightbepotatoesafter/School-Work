{
 "cells": [
  {
   "cell_type": "code",
   "execution_count": 1,
   "metadata": {
    "collapsed": true
   },
   "outputs": [],
   "source": [
    "import doctest"
   ]
  },
  {
   "cell_type": "code",
   "execution_count": 36,
   "metadata": {},
   "outputs": [],
   "source": [
    "def ratsBug(weight, rate):\n",
    "    '''(number, number) -> tuple\n",
    "\n",
    "    Return number of weeks it will\n",
    "    take for a rat to weigh 1.5 times\n",
    "    as much as its original weight\n",
    "    (weight > 0) if it gains at rate (rate > 0).\n",
    "\n",
    "    >>> ratsBug(10, .1)     # normal\n",
    "    (16.1, 5)\n",
    "    >>> ratsBug(1, .5)      # edge - just one week\n",
    "    (1.5, 1)\n",
    "    >>> ratsBug(12, .32)    # normal\n",
    "    (20.9, 2)\n",
    "    >>> ratsBug(10, 1)      # edge - less than a week\n",
    "    (20, 1)\n",
    "    >>> ratsBug(10, .5)     # normal\n",
    "    (15.0, 1)\n",
    "    '''\n",
    "    weeks = 0\n",
    "    initial_weight = weight\n",
    "    while weight < (1.5 * initial_weight):      # Using weight += weight * rate messes with the test condition\n",
    "        weight += weight * rate                 # so a new one was needed to fix it\n",
    "        weeks = weeks + 1\n",
    "        \n",
    "    weight = round(weight, 1)\n",
    "    return (weight, weeks)"
   ]
  },
  {
   "cell_type": "code",
   "execution_count": 42,
   "metadata": {
    "collapsed": true
   },
   "outputs": [],
   "source": [
    "def countSeqBug(astr):\n",
    "    '''(str) -> int\n",
    "\n",
    "    Returns the length of the longest recurring\n",
    "    sequence in astr\n",
    "\n",
    "    >>> countSeqBug('abccde')  # normal  \n",
    "    2\n",
    "    >>> countSeqBug('')        # edge - empty string\n",
    "    0\n",
    "    >>> countSeqBug('aaabbbccd') # edge - multiple same length longest strings\n",
    "    3\n",
    "    >>> countSeqBug('abccdeeeeeeeef') # normal\n",
    "    8\n",
    "    >>> countSeqBug('000abbb2') # normal\n",
    "    3\n",
    "    '''\n",
    "    if len(astr) != 0:\n",
    "        prev_item = astr[0]\n",
    "        dup_ct = 1\n",
    "        high_ct = 1\n",
    "    else:\n",
    "        high_ct = 0\n",
    "        dup_ct = 0\n",
    "        \n",
    "    for i in range(1, len(astr)):\n",
    "        if astr[i] == prev_item:\n",
    "            dup_ct += 1\n",
    "        else:\n",
    "            prev_item = astr[i]\n",
    "\n",
    "            if dup_ct > high_ct:\n",
    "                high_ct = dup_ct\n",
    "            dup_ct = 1\n",
    "\n",
    "    return high_ct"
   ]
  },
  {
   "cell_type": "code",
   "execution_count": 44,
   "metadata": {},
   "outputs": [],
   "source": [
    "def my_averageBug(dataset):\n",
    "    '''(str) -> float\n",
    "\n",
    "    Returns average of values in input string values,\n",
    "    but zeros do not count at all.  Return 0 if there\n",
    "    is no real data.\n",
    "    \n",
    "    >>> my_averageBug('23')    #normal, no zeros\n",
    "    2.5\n",
    "    >>> my_averageBug('203')   #normal, a zero\n",
    "    2.5\n",
    "    >>> my_averageBug('0000')  #all zeros\n",
    "    0\n",
    "    >>> my_averageBug('1')     #single item string\n",
    "    1.0\n",
    "    >>> my_averageBug('05050505')  # normal\n",
    "    5.0\n",
    "    >>> my_averageBug('16002') # normal\n",
    "    3.0\n",
    "    >>> my_averageBug('10652') # normal\n",
    "    3.5\n",
    "    >>> my_averageBug('')      # normal\n",
    "    0\n",
    "    '''\n",
    "    count = 0\n",
    "    total = 0\n",
    "    for value in dataset:\n",
    "        if value != '0':\n",
    "            total += int(value)\n",
    " # use int to change string to integer\n",
    "            count += 1 \n",
    "    if count != 0:                       #added if else statement to deal with all zero cases\n",
    "        avg = total / count\n",
    "    else:\n",
    "        avg = 0\n",
    "    return avg"
   ]
  },
  {
   "cell_type": "code",
   "execution_count": 45,
   "metadata": {},
   "outputs": [
    {
     "name": "stdout",
     "output_type": "stream",
     "text": [
      "TestResults(failed=0, attempted=18)\n"
     ]
    }
   ],
   "source": [
    "print(doctest.testmod())"
   ]
  }
 ],
 "metadata": {
  "kernelspec": {
   "display_name": "Python 3",
   "language": "python",
   "name": "python3"
  },
  "language_info": {
   "codemirror_mode": {
    "name": "ipython",
    "version": 3
   },
   "file_extension": ".py",
   "mimetype": "text/x-python",
   "name": "python",
   "nbconvert_exporter": "python",
   "pygments_lexer": "ipython3",
   "version": "3.6.1"
  }
 },
 "nbformat": 4,
 "nbformat_minor": 2
}
