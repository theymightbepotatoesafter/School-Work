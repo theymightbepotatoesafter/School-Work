{
 "cells": [
  {
   "cell_type": "code",
   "execution_count": 1,
   "metadata": {},
   "outputs": [
    {
     "data": {
      "text/plain": [
       "'                          \\nAssignment Code\\nCIS 210 Project 2-3 Draw Flower\\n\\nAuthor: Christian Carter\\n\\nCredits: N/A\\n\\nWriten code that satisfies the requirements set out in p23-drawflower-W21.pdf\\n'"
      ]
     },
     "execution_count": 1,
     "metadata": {},
     "output_type": "execute_result"
    }
   ],
   "source": [
    "'''                          \n",
    "Assignment Code\n",
    "CIS 210 Project 2-3 Draw Flower\n",
    "\n",
    "Author: Christian Carter\n",
    "\n",
    "Credits: N/A\n",
    "\n",
    "Writen code that satisfies the requirements set out in p23-drawflower-W21.pdf\n",
    "'''"
   ]
  },
  {
   "cell_type": "code",
   "execution_count": 9,
   "metadata": {
    "collapsed": true
   },
   "outputs": [],
   "source": [
    "import turtle as t\n",
    "import math as m"
   ]
  },
  {
   "cell_type": "code",
   "execution_count": 8,
   "metadata": {},
   "outputs": [],
   "source": [
    "def drawFlower(num_squares):\n",
    "    \"\"\"\n",
    "    (int) -> none\n",
    "    \n",
    "    User inputs the number of squares they want turtle to draw\n",
    "    \n",
    "    >>> drawFlower(25)\n",
    "    *a picture of a flower with 25 squares*\n",
    "    \"\"\"\n",
    "    #drwing the stem\n",
    "    t.clearscreen()\n",
    "    t.speed(10)\n",
    "    t.pencolor(\"green\")\n",
    "    t.showturtle()\n",
    "    t.penup()\n",
    "    t.screensize(401, 401, 'white')\n",
    "    t.setposition(200,50)\n",
    "    t.setheading(90)\n",
    "    t.pendown()\n",
    "    t.forward(150)\n",
    "    t.penup()\n",
    "    for i in range(num_squares):\n",
    "        t.setposition(200,200)\n",
    "        t.setheading(90 - (i * (360 / num_squares)))\n",
    "        t.speed(10)\n",
    "        drawPolygon()\n",
    "    \n",
    "    t.setposition(200,200)"
   ]
  },
  {
   "cell_type": "code",
   "execution_count": 21,
   "metadata": {},
   "outputs": [],
   "source": [
    "def drawPolygon(side_length = 25, num_sides = 4):\n",
    "    \"\"\"\n",
    "    (int, int) -> none\n",
    "    \n",
    "    User can specify the values for side length and number of sides to change the shape of the flower\n",
    "    \n",
    "    >>> drawPolygon()\n",
    "    *draws polygon centered on the last position, which is (200,200)*\n",
    "    \"\"\"\n",
    "    \n",
    "    t.penup()\n",
    "    t.color(\"red\")\n",
    "    internal_angle = ((num_sides - 2) * 180) / num_sides\n",
    "    face_angle = m.radians(360 / num_sides)\n",
    "    dist_from_center = side_length / m.sqrt(2 *(1 - m.cos(face_angle)))\n",
    "    t.forward(dist_from_center)\n",
    "    t.pendown()\n",
    "    t.right(180 - (internal_angle / 2))\n",
    "    t.forward(side_length)\n",
    "    for i in range(num_sides - 1):\n",
    "        t.right(180 - internal_angle)\n",
    "        t.forward(side_length)\n",
    "    t.penup()\n",
    "    return None"
   ]
  },
  {
   "cell_type": "code",
   "execution_count": 10,
   "metadata": {
    "collapsed": true
   },
   "outputs": [],
   "source": [
    "def main():\n",
    "    \"\"\"Draws flowers with the number of polygons specified in the function\"\"\"\n",
    "    drawFlower(5)\n",
    "    return None"
   ]
  },
  {
   "cell_type": "code",
   "execution_count": 20,
   "metadata": {},
   "outputs": [
    {
     "name": "stdout",
     "output_type": "stream",
     "text": [
      "Internal angle is 135.000000\n",
      "Side length is 25.000000\n",
      "Distance from Center is 32.664074\n",
      "Internal angle is 135.000000\n",
      "Side length is 25.000000\n",
      "Distance from Center is 32.664074\n",
      "Internal angle is 135.000000\n",
      "Side length is 25.000000\n",
      "Distance from Center is 32.664074\n",
      "Internal angle is 135.000000\n",
      "Side length is 25.000000\n",
      "Distance from Center is 32.664074\n",
      "Internal angle is 135.000000\n",
      "Side length is 25.000000\n",
      "Distance from Center is 32.664074\n"
     ]
    }
   ],
   "source": [
    "main()"
   ]
  }
 ],
 "metadata": {
  "kernelspec": {
   "display_name": "Python 3",
   "language": "python",
   "name": "python3"
  },
  "language_info": {
   "codemirror_mode": {
    "name": "ipython",
    "version": 3
   },
   "file_extension": ".py",
   "mimetype": "text/x-python",
   "name": "python",
   "nbconvert_exporter": "python",
   "pygments_lexer": "ipython3",
   "version": "3.6.1"
  }
 },
 "nbformat": 4,
 "nbformat_minor": 2
}
