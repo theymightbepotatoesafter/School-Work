{
 "cells": [
  {
   "cell_type": "code",
   "execution_count": null,
   "metadata": {
    "collapsed": true
   },
   "outputs": [],
   "source": [
    "'''                          \n",
    "Assignment Code\n",
    "CIS 210 Project 2-1 Determining Net Pay\n",
    "\n",
    "Author: Christian Carter\n",
    "\n",
    "Credits: Stack Overflow thread \"https://stackoverflow.com/questions/455612/limiting-floats-to-two-decimal-points\"\n",
    "\n",
    "Writen code that satisfies the requirements set out in p21-netpay-W21.pdf\n",
    "'''"
   ]
  },
  {
   "cell_type": "code",
   "execution_count": 9,
   "metadata": {
    "collapsed": true
   },
   "outputs": [],
   "source": [
    "def fb(n):\n",
    "    \"\"\"\n",
    "    (int) -> int or string\n",
    "    \n",
    "    User inputs the final number n and the function prints \"fizz\",\n",
    "    \"buzz\", or the number the function is on\n",
    "    \n",
    "    >>> fb(7)\n",
    "    1\n",
    "    2\n",
    "    fizz\n",
    "    4\n",
    "    buzz\n",
    "    fizz\n",
    "    7\n",
    "    \"\"\"\n",
    "    for i in range(1, n+1):\n",
    "        if (i % 3 == 0) and (i % 5 == 0):\n",
    "            print('fizzbuzz')\n",
    "        elif (i % 3 == 0):\n",
    "            print('fizz')\n",
    "        elif (i % 5 == 0):\n",
    "            print('buzz')\n",
    "        else:\n",
    "            print(i)\n",
    "    print('Game over!')\n",
    "    return None"
   ]
  }
 ],
 "metadata": {
  "kernelspec": {
   "display_name": "Python 3",
   "language": "python",
   "name": "python3"
  },
  "language_info": {
   "codemirror_mode": {
    "name": "ipython",
    "version": 3
   },
   "file_extension": ".py",
   "mimetype": "text/x-python",
   "name": "python",
   "nbconvert_exporter": "python",
   "pygments_lexer": "ipython3",
   "version": "3.6.1"
  }
 },
 "nbformat": 4,
 "nbformat_minor": 2
}
