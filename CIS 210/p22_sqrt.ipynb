{
 "cells": [
  {
   "cell_type": "code",
   "execution_count": null,
   "metadata": {
    "collapsed": true
   },
   "outputs": [],
   "source": [
    "'''                          \n",
    "Assignment Code\n",
    "CIS 210 Project 2-2 Approximate Square Root\n",
    "\n",
    "Author: Christian Carter\n",
    "\n",
    "Credits: Stack Overflow thread \"https://stackoverflow.com/questions/455612/limiting-floats-to-two-decimal-points\"\n",
    "\n",
    "Writen code that satisfies the requirements set out in p22-sqrt-W21.pdf\n",
    "'''"
   ]
  },
  {
   "cell_type": "code",
   "execution_count": 2,
   "metadata": {
    "collapsed": true
   },
   "outputs": [],
   "source": [
    "import math as m\n",
    "\n",
    "def mysqrt(number, iterations):\n",
    "    \"\"\"\n",
    "    (float) -> float\n",
    "    \n",
    "    User inputs float and is returned an approximate value for the square root of that float\n",
    "    \n",
    "    >>> mysqrt(27, 5)\n",
    "    5.196192237708947\n",
    "    >>> mysqrt(27, 100)\n",
    "    5.196152422706632\n",
    "    \"\"\"\n",
    "    x = [1]\n",
    "    for i in range(iterations):\n",
    "        x.append(0.5 * (x[-1] + (number / x[-1])))\n",
    "    \n",
    "    return( x[-1])"
   ]
  },
  {
   "cell_type": "code",
   "execution_count": 26,
   "metadata": {
    "collapsed": true
   },
   "outputs": [],
   "source": [
    "def sqrt_compare(number, iterations):\n",
    "    \"\"\"\n",
    "    (float) -> float\n",
    "    \n",
    "    User inputs a float and is returned the square root of the number as given by the python math module\n",
    "    \n",
    "    >>> sqrt_compare()\n",
    "    \n",
    "    >>> sqrt_compare()\n",
    "    \n",
    "    \"\"\"\n",
    "    sqrt_test = mysqrt(number, iterations)\n",
    "    sqrt_diff_percent = sqrt_test / m.sqrt(number)\n",
    "    print('Using %i and %i iterations:' % (number, iterations))\n",
    "    print('mysqrt calculated a value of: %f' % sqrt_test)\n",
    "    print('The python math module calculated a value of: %f' % m.sqrt(number))\n",
    "    print('This is a %.2f percent error' % sqrt_diff_percent)\n",
    "    print(\"\")"
   ]
  },
  {
   "cell_type": "code",
   "execution_count": 24,
   "metadata": {
    "collapsed": true
   },
   "outputs": [],
   "source": [
    "def main():\n",
    "    \"\"\"Returns sqrt comparison results\"\"\"\n",
    "    sqrt_compare(25, 5)\n",
    "    sqrt_compare(25, 10)\n",
    "    sqrt_compare(625, 5)\n",
    "    sqrt_compare(625, 10)\n",
    "    sqrt_compare(10000, 8)\n",
    "    sqrt_compare(10000, 10)\n",
    "    sqrt_compare(10000, 11)\n",
    "    return None"
   ]
  },
  {
   "cell_type": "code",
   "execution_count": 27,
   "metadata": {},
   "outputs": [
    {
     "name": "stdout",
     "output_type": "stream",
     "text": [
      "Using 25 and 5 iterations:\n",
      "mysqrt calculated a value of: 5.000023\n",
      "The python math module calculated a value of: 5.000000\n",
      "This is a 1.00 percent error\n",
      "\n",
      "Using 25 and 10 iterations:\n",
      "mysqrt calculated a value of: 5.000000\n",
      "The python math module calculated a value of: 5.000000\n",
      "This is a 1.00 percent error\n",
      "\n",
      "Using 625 and 5 iterations:\n",
      "mysqrt calculated a value of: 29.182872\n",
      "The python math module calculated a value of: 25.000000\n",
      "This is a 1.17 percent error\n",
      "\n",
      "Using 625 and 10 iterations:\n",
      "mysqrt calculated a value of: 25.000000\n",
      "The python math module calculated a value of: 25.000000\n",
      "This is a 1.00 percent error\n",
      "\n",
      "Using 10000 and 8 iterations:\n",
      "mysqrt calculated a value of: 101.202184\n",
      "The python math module calculated a value of: 100.000000\n",
      "This is a 1.01 percent error\n",
      "\n",
      "Using 10000 and 10 iterations:\n",
      "mysqrt calculated a value of: 100.000000\n",
      "The python math module calculated a value of: 100.000000\n",
      "This is a 1.00 percent error\n",
      "\n",
      "Using 10000 and 11 iterations:\n",
      "mysqrt calculated a value of: 100.000000\n",
      "The python math module calculated a value of: 100.000000\n",
      "This is a 1.00 percent error\n",
      "\n"
     ]
    }
   ],
   "source": [
    "main()"
   ]
  }
 ],
 "metadata": {
  "kernelspec": {
   "display_name": "Python 3",
   "language": "python",
   "name": "python3"
  },
  "language_info": {
   "codemirror_mode": {
    "name": "ipython",
    "version": 3
   },
   "file_extension": ".py",
   "mimetype": "text/x-python",
   "name": "python",
   "nbconvert_exporter": "python",
   "pygments_lexer": "ipython3",
   "version": "3.6.1"
  }
 },
 "nbformat": 4,
 "nbformat_minor": 2
}
